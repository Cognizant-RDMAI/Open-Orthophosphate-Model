{
 "cells": [
  {
   "cell_type": "code",
   "execution_count": 1,
   "id": "0db6fbd7-1854-485b-8b32-a664df3898e8",
   "metadata": {
    "tags": []
   },
   "outputs": [],
   "source": [
    "\n",
    "# Notebook Summary:\n",
    "\n",
    "# V.History: \n",
    "# Date Last Modified: 15 May 2025\n",
    "\n",
    "#--------------------------------------------------------------------------------------------------\n",
    "'''\n",
    "    Visualize thru Maps - UK April 20 2025    \n",
    "    Date: May 15, 2025\n",
    "'''\n",
    "#--------------------------------------------------------------------------------------------------\n",
    "\n",
    "\n",
    "#--------------------------------------------------------------------------------------------------\n",
    "#Pre-Requisite : \n",
    "    #Kernel Python 3 (ipykernel) is required to run this notebook \n",
    "    #Python 3 Kernel required | Python Version 3.10.15\n",
    "    #compatible Numpy , ScikitLearn libraries\n",
    "\n",
    "#Old Name: 18_NB_Final_Visuals_UKMap.ipynb\n",
    "#--------------------------------------------------------------------------------------------------\n",
    "\n",
    "'''\n",
    "    Intro Section\n",
    "'''"
   ]
  },
  {
   "cell_type": "code",
   "execution_count": 2,
   "id": "6c8ca759-311b-4547-a6cf-c5c479cee74b",
   "metadata": {},
   "outputs": [],
   "source": [
    "#Visualize WQ Phosphate  Or OrthoP in UK Map - Begin Feb 14 2025"
   ]
  },
  {
   "cell_type": "code",
   "execution_count": 3,
   "id": "92d00ebf-f3b8-48e3-bdec-e48076d1b496",
   "metadata": {
    "tags": []
   },
   "outputs": [],
   "source": [
    "#! pip install geopandas --upgrade\n",
    "#! pip install geodatasets --upgrade\n",
    "#! pip install osmnx"
   ]
  },
  {
   "cell_type": "code",
   "execution_count": 4,
   "id": "34f8c527-a86c-48bc-935e-7fb07bcc9a6c",
   "metadata": {
    "tags": []
   },
   "outputs": [
    {
     "name": "stdout",
     "output_type": "stream",
     "text": [
      "Python 3.10.15\n",
      "['Python 3.10.15']\n"
     ]
    }
   ],
   "source": [
    "#Check python version compatibility 3.10 or above is required\n",
    "!python -V\n",
    "python_version=!(python --version 2>&1)\n",
    "print (python_version)"
   ]
  },
  {
   "cell_type": "code",
   "execution_count": 5,
   "id": "71530d72-c87f-4cca-9b92-4481463f857a",
   "metadata": {
    "tags": []
   },
   "outputs": [
    {
     "name": "stdout",
     "output_type": "stream",
     "text": [
      "\u001b[0m\u001b[01;34mchem2\u001b[0m/\n"
     ]
    }
   ],
   "source": [
    "ls ~/.local/share/jupyter/kernels"
   ]
  },
  {
   "cell_type": "code",
   "execution_count": 6,
   "id": "9b16ff8c-1ef4-4e01-9061-7edb72192fdc",
   "metadata": {
    "tags": []
   },
   "outputs": [
    {
     "data": {
      "text/plain": [
       "'3.10.15 | packaged by conda-forge | (main, Oct 16 2024, 01:24:24) [GCC 13.3.0]'"
      ]
     },
     "execution_count": 6,
     "metadata": {},
     "output_type": "execute_result"
    }
   ],
   "source": [
    "#Check python version compatibility 3.10 or above is required\n",
    "\n",
    "#sudo nano  ~/.local/share/jupyter/kernels/python311/kernel.json\n",
    "#to display the system version of the pandas\n",
    "#!pip show pandas\n",
    "#to display this notebook's kernel version of the pandas\n",
    "#%pip show pandas\n",
    "\n",
    "import sys\n",
    "sys.version"
   ]
  },
  {
   "cell_type": "code",
   "execution_count": 7,
   "id": "6f15034c-c45d-484f-a905-fa81a2fd74e5",
   "metadata": {
    "tags": []
   },
   "outputs": [
    {
     "name": "stdout",
     "output_type": "stream",
     "text": [
      "Intalling required libraries and utilities.....\n",
      "Uses Python 3 (ipykernel) (Local)\n",
      "Python 3.10.15\n",
      "['Python 3.10.15']\n",
      "25 April 2025 10:39:32\n",
      "welcome\n",
      "gcs://rdmai_data/raw/\n",
      "Begin Card\n",
      "\n",
      "\n",
      "\n"
     ]
    },
    {
     "name": "stderr",
     "output_type": "stream",
     "text": [
      "2025-04-25 10:39:49.060491: E external/local_xla/xla/stream_executor/cuda/cuda_fft.cc:467] Unable to register cuFFT factory: Attempting to register factory for plugin cuFFT when one has already been registered\n",
      "WARNING: All log messages before absl::InitializeLog() is called are written to STDERR\n",
      "E0000 00:00:1745577589.084796  571866 cuda_dnn.cc:8579] Unable to register cuDNN factory: Attempting to register factory for plugin cuDNN when one has already been registered\n",
      "E0000 00:00:1745577589.092646  571866 cuda_blas.cc:1407] Unable to register cuBLAS factory: Attempting to register factory for plugin cuBLAS when one has already been registered\n",
      "W0000 00:00:1745577589.112331  571866 computation_placer.cc:177] computation placer already registered. Please check linkage and avoid linking the same target more than once.\n",
      "W0000 00:00:1745577589.112355  571866 computation_placer.cc:177] computation placer already registered. Please check linkage and avoid linking the same target more than once.\n",
      "W0000 00:00:1745577589.112357  571866 computation_placer.cc:177] computation placer already registered. Please check linkage and avoid linking the same target more than once.\n",
      "W0000 00:00:1745577589.112360  571866 computation_placer.cc:177] computation placer already registered. Please check linkage and avoid linking the same target more than once.\n",
      "2025-04-25 10:39:49.119602: I tensorflow/core/platform/cpu_feature_guard.cc:210] This TensorFlow binary is optimized to use available CPU instructions in performance-critical operations.\n",
      "To enable the following instructions: AVX2 FMA, in other operations, rebuild TensorFlow with the appropriate compiler flags.\n"
     ]
    },
    {
     "name": "stdout",
     "output_type": "stream",
     "text": [
      "|| Completed intalling required libraries and utilities ||\n"
     ]
    }
   ],
   "source": [
    "%run \"..//99_Common_Utils/99_NB_CommonUtils.ipynb\" #Library Declaration section - Installing or Initiating all required Python Libraries"
   ]
  },
  {
   "cell_type": "code",
   "execution_count": 8,
   "id": "5ba3847b-8add-4eab-b440-198aefce7f46",
   "metadata": {},
   "outputs": [],
   "source": [
    "\n",
    "import os\n",
    "import requests\n",
    "import zipfile\n",
    "import pandas as pd\n",
    "import geopandas as gpd\n",
    "import matplotlib.pyplot as plt\n",
    "import contextily as ctx\n",
    "from pyproj import Transformer\n",
    "import geodatasets\n",
    "import matplotlib.cm as cm\n",
    "import matplotlib.colors as colors\n",
    "import osmnx as ox\n",
    "from matplotlib.colors import LinearSegmentedColormap\n"
   ]
  },
  {
   "cell_type": "code",
   "execution_count": 9,
   "id": "a2bc7fe1-0a45-49a1-a7cd-7fc93b36cd07",
   "metadata": {
    "tags": []
   },
   "outputs": [],
   "source": [
    "# Load phosphate  Or OrthoP data (ensure it includes a common key to merge with catchments)\n",
    "# For example, a CSV with columns 'catchment_id' and 'phosphate_level'\n",
    "#data = gpd.read_file('phosphate_data.csv')\n",
    "#data = gpd.read_file('..//NW_DataPP/12_CSV_Full_Phosphate_Dataset.csv')\n",
    "#data = gpd.read_file('gs://rdmai_dev_data/cleansed/03_WQEA_2000_24_full_New.csv')\n",
    "#data = gpd.read_file('gcs://NW_DataPP/03_WQEA_2000_24_full_New.csv')\n",
    "#data = pd.read_csv('gcs://rdmai_dev_data/cleansed/03_WQEA_2000_24_full_New.csv')\n",
    "data = pd.read_csv(\"gcs://rdmai_dev_data/NW_Final/cleansed/16_NB_Pred_Pt2_v9_Ortho2959_SpatioTemp_LGBM_TestPredict_With_Mon.csv\")\n",
    "phosphate_data = gpd.GeoDataFrame(data)"
   ]
  },
  {
   "cell_type": "code",
   "execution_count": 10,
   "id": "c21b508f-797f-4d46-ab69-0ddc481b4126",
   "metadata": {
    "tags": []
   },
   "outputs": [
    {
     "name": "stdout",
     "output_type": "stream",
     "text": [
      "101\n",
      "23\n"
     ]
    }
   ],
   "source": [
    "print(len(phosphate_data.columns))\n",
    "phosphate_data = phosphate_data[[\"sampleDateOnly\",\"OrthoP\",\"Predicted_OrthoP\",\"samplingPoint_easting\",\n",
    "                                 \"samplingPoint_northing\",\"purpose_name_label\",\n",
    "                                 \"samplingPoint_notation_label\",\"Day_of_Month\",\"Week_of_Year\",\"Season_label\",\"Day_of_Week_label\",\n",
    "                                 \"Month_of_Year_label\",\"longitude_label\",\"latitude_label\",\"isComplianceSample_label_0\",\n",
    "                                 \"isComplianceSample_label_1\",\"116_N Oxidised_Unclassified\",\"111_Ammonia(N)_Unclassified\",\n",
    "                                 \"117_Nitrate-N_Unclassified\",\"118_Nitrite-N_Unclassified\",\"119_NH3 un-ion_Yes\",\n",
    "                                 \"9924_Oxygen Diss_Yes\",\"162_Alky pH 4.5_Unsure\"]]\n",
    "print(len(phosphate_data.columns))\n"
   ]
  },
  {
   "cell_type": "code",
   "execution_count": 11,
   "id": "7b38f1a6-6331-43d1-aef3-ac5defa664ae",
   "metadata": {
    "tags": []
   },
   "outputs": [
    {
     "name": "stdout",
     "output_type": "stream",
     "text": [
      "0\n",
      "6\n",
      "197\n"
     ]
    }
   ],
   "source": [
    "print(phosphate_data.Predicted_OrthoP[phosphate_data.Predicted_OrthoP==0].count()) #results with zero values recorded\n",
    "print(phosphate_data.OrthoP[phosphate_data.OrthoP==0].count()) #results with zero values recorded\n",
    "print(len(phosphate_data))"
   ]
  },
  {
   "cell_type": "code",
   "execution_count": 12,
   "id": "21b2933d-3ba0-4f4c-a64e-b8468586222c",
   "metadata": {
    "tags": []
   },
   "outputs": [
    {
     "name": "stdout",
     "output_type": "stream",
     "text": [
      "191\n"
     ]
    }
   ],
   "source": [
    "#Phosphate\n",
    "#gdf_Phos192 = phosphate_data[(phosphate_data['determinand_notation'] == 192)\n",
    "#                             & (phosphate_data['result'] != '0.0')\n",
    "#                             & (phosphate_data['result'] != '0')\n",
    "#                             & (phosphate_data['result'] > 0)].copy()\n",
    "\n",
    "\n",
    "#OrthoP\n",
    "#gdf_Phos180 = phosphate_data[(phosphate_data['determinand_notation'] == 180)\n",
    "#                             & (phosphate_data['result'] != '0.0')\n",
    "#                             & (phosphate_data['result'] != '0')\n",
    "#                             & (phosphate_data['result'] > 0)\n",
    "#                            ].copy()\n",
    "\n",
    "gdf_OrthoP = phosphate_data[phosphate_data['OrthoP']>0].copy()\n",
    "\n",
    "\n",
    "print( len(gdf_OrthoP))"
   ]
  },
  {
   "cell_type": "code",
   "execution_count": 13,
   "id": "8e9c6ccd-3a8d-4a9e-84e4-0d023588ccdf",
   "metadata": {
    "tags": []
   },
   "outputs": [],
   "source": [
    "#Change the dataset either to phosphate or Orthophosphate here\n",
    "#catchments.head(2)\n",
    "#phosphate_data.head(2)\n",
    "#df = gdf_Phos192 #Phosphate\n",
    "#plabel = \"Phosphate\"\n",
    "\n",
    "df = gdf_OrthoP #OrthoP\n",
    "plabel = \"Orthophosphate\""
   ]
  },
  {
   "cell_type": "code",
   "execution_count": 14,
   "id": "e577b618-afae-48c5-9344-102864c6229d",
   "metadata": {
    "tags": []
   },
   "outputs": [],
   "source": [
    "#required_columns = {'samplingPoint_notation', 'result', 'samplingPoint_easting', 'samplingPoint_northing'}\n",
    "#if not required_columns.issubset(df.columns):\n",
    "#    raise ValueError(f\"CSV file must contain the following columns: {required_columns}\")\n",
    "#\n",
    "#df.columns"
   ]
  },
  {
   "cell_type": "code",
   "execution_count": 15,
   "id": "f03826b5-04b6-45c0-afbe-834e05a5c4ca",
   "metadata": {
    "tags": []
   },
   "outputs": [],
   "source": [
    "transformer = Transformer.from_crs(\"EPSG:27700\", \"EPSG:4326\", always_xy=True)\n",
    "df['longitude'], df['latitude'] = transformer.transform(\n",
    "    df['samplingPoint_easting'].values, df['samplingPoint_northing'].values)\n"
   ]
  },
  {
   "cell_type": "code",
   "execution_count": 16,
   "id": "75d2f7e2-4f9a-4a36-9693-6cc314d11a88",
   "metadata": {
    "tags": []
   },
   "outputs": [],
   "source": [
    "# Convert to a GeoDataFrame\n",
    "gdf = gpd.GeoDataFrame(df, geometry=gpd.points_from_xy(\n",
    "    df['longitude'], df['latitude']), crs='EPSG:4326')\n"
   ]
  },
  {
   "cell_type": "code",
   "execution_count": 17,
   "id": "f3582dce-fb00-4b14-969d-7490a8c5925e",
   "metadata": {
    "tags": []
   },
   "outputs": [
    {
     "data": {
      "text/html": [
       "<div>\n",
       "<style scoped>\n",
       "    .dataframe tbody tr th:only-of-type {\n",
       "        vertical-align: middle;\n",
       "    }\n",
       "\n",
       "    .dataframe tbody tr th {\n",
       "        vertical-align: top;\n",
       "    }\n",
       "\n",
       "    .dataframe thead th {\n",
       "        text-align: right;\n",
       "    }\n",
       "</style>\n",
       "<table border=\"1\" class=\"dataframe\">\n",
       "  <thead>\n",
       "    <tr style=\"text-align: right;\">\n",
       "      <th></th>\n",
       "      <th>sampleDateOnly</th>\n",
       "      <th>OrthoP</th>\n",
       "      <th>Predicted_OrthoP</th>\n",
       "      <th>samplingPoint_easting</th>\n",
       "      <th>samplingPoint_northing</th>\n",
       "      <th>purpose_name_label</th>\n",
       "      <th>samplingPoint_notation_label</th>\n",
       "      <th>Day_of_Month</th>\n",
       "      <th>Week_of_Year</th>\n",
       "      <th>Season_label</th>\n",
       "      <th>Day_of_Week_label</th>\n",
       "      <th>Month_of_Year_label</th>\n",
       "      <th>longitude_label</th>\n",
       "      <th>latitude_label</th>\n",
       "      <th>isComplianceSample_label_0</th>\n",
       "      <th>isComplianceSample_label_1</th>\n",
       "      <th>116_N Oxidised_Unclassified</th>\n",
       "      <th>111_Ammonia(N)_Unclassified</th>\n",
       "      <th>117_Nitrate-N_Unclassified</th>\n",
       "      <th>118_Nitrite-N_Unclassified</th>\n",
       "      <th>119_NH3 un-ion_Yes</th>\n",
       "      <th>9924_Oxygen Diss_Yes</th>\n",
       "      <th>162_Alky pH 4.5_Unsure</th>\n",
       "      <th>longitude</th>\n",
       "      <th>latitude</th>\n",
       "      <th>geometry</th>\n",
       "    </tr>\n",
       "  </thead>\n",
       "  <tbody>\n",
       "    <tr>\n",
       "      <th>2</th>\n",
       "      <td>2000-03-16</td>\n",
       "      <td>0.05</td>\n",
       "      <td>0.03</td>\n",
       "      <td>420190</td>\n",
       "      <td>542201</td>\n",
       "      <td>2</td>\n",
       "      <td>8207</td>\n",
       "      <td>16</td>\n",
       "      <td>11</td>\n",
       "      <td>1</td>\n",
       "      <td>4</td>\n",
       "      <td>7</td>\n",
       "      <td>12022</td>\n",
       "      <td>20867</td>\n",
       "      <td>1</td>\n",
       "      <td>0</td>\n",
       "      <td>0.78</td>\n",
       "      <td>0.03</td>\n",
       "      <td>0.78</td>\n",
       "      <td>0.01</td>\n",
       "      <td>0.00</td>\n",
       "      <td>12.60</td>\n",
       "      <td>283.00</td>\n",
       "      <td>-1.69</td>\n",
       "      <td>54.77</td>\n",
       "      <td>POINT (-1.68767 54.77432)</td>\n",
       "    </tr>\n",
       "    <tr>\n",
       "      <th>6</th>\n",
       "      <td>2000-09-26</td>\n",
       "      <td>0.07</td>\n",
       "      <td>0.08</td>\n",
       "      <td>420190</td>\n",
       "      <td>542201</td>\n",
       "      <td>2</td>\n",
       "      <td>8207</td>\n",
       "      <td>26</td>\n",
       "      <td>39</td>\n",
       "      <td>0</td>\n",
       "      <td>5</td>\n",
       "      <td>11</td>\n",
       "      <td>12022</td>\n",
       "      <td>20867</td>\n",
       "      <td>1</td>\n",
       "      <td>0</td>\n",
       "      <td>1.33</td>\n",
       "      <td>0.04</td>\n",
       "      <td>1.32</td>\n",
       "      <td>0.01</td>\n",
       "      <td>0.00</td>\n",
       "      <td>10.30</td>\n",
       "      <td>179.00</td>\n",
       "      <td>-1.69</td>\n",
       "      <td>54.77</td>\n",
       "      <td>POINT (-1.68767 54.77432)</td>\n",
       "    </tr>\n",
       "  </tbody>\n",
       "</table>\n",
       "</div>"
      ],
      "text/plain": [
       "  sampleDateOnly  OrthoP  Predicted_OrthoP  samplingPoint_easting  \\\n",
       "2     2000-03-16    0.05              0.03                 420190   \n",
       "6     2000-09-26    0.07              0.08                 420190   \n",
       "\n",
       "   samplingPoint_northing  purpose_name_label  samplingPoint_notation_label  \\\n",
       "2                  542201                   2                          8207   \n",
       "6                  542201                   2                          8207   \n",
       "\n",
       "   Day_of_Month  Week_of_Year  Season_label  Day_of_Week_label  \\\n",
       "2            16            11             1                  4   \n",
       "6            26            39             0                  5   \n",
       "\n",
       "   Month_of_Year_label  longitude_label  latitude_label  \\\n",
       "2                    7            12022           20867   \n",
       "6                   11            12022           20867   \n",
       "\n",
       "   isComplianceSample_label_0  isComplianceSample_label_1  \\\n",
       "2                           1                           0   \n",
       "6                           1                           0   \n",
       "\n",
       "   116_N Oxidised_Unclassified  111_Ammonia(N)_Unclassified  \\\n",
       "2                         0.78                         0.03   \n",
       "6                         1.33                         0.04   \n",
       "\n",
       "   117_Nitrate-N_Unclassified  118_Nitrite-N_Unclassified  119_NH3 un-ion_Yes  \\\n",
       "2                        0.78                        0.01                0.00   \n",
       "6                        1.32                        0.01                0.00   \n",
       "\n",
       "   9924_Oxygen Diss_Yes  162_Alky pH 4.5_Unsure  longitude  latitude  \\\n",
       "2                 12.60                  283.00      -1.69     54.77   \n",
       "6                 10.30                  179.00      -1.69     54.77   \n",
       "\n",
       "                    geometry  \n",
       "2  POINT (-1.68767 54.77432)  \n",
       "6  POINT (-1.68767 54.77432)  "
      ]
     },
     "execution_count": 17,
     "metadata": {},
     "output_type": "execute_result"
    }
   ],
   "source": [
    "gdf.head(2)"
   ]
  },
  {
   "cell_type": "code",
   "execution_count": 18,
   "id": "9c4d6133-f589-4d06-bf71-726cd6b46a34",
   "metadata": {
    "tags": []
   },
   "outputs": [
    {
     "data": {
      "text/plain": [
       "\"\\nprint(gdf['result'].min(), gdf['result'].max(), len(gdf))\\ngdf['OrthoP'] = gdf['OrthoP'].astype(float)\\ngdf = gdf[(gdf['OrthoP'] != '0.0') | \\n                          (gdf['OrthoP'] != '0') | (gdf['OrthoP'] != 0.0)]\\nprint(gdf['OrthoP'].min(), gdf['OrthoP'].max(), len(gdf))\\n\""
      ]
     },
     "execution_count": 18,
     "metadata": {},
     "output_type": "execute_result"
    }
   ],
   "source": [
    "\"\"\"\n",
    "print(gdf['result'].min(), gdf['result'].max(), len(gdf))\n",
    "gdf['OrthoP'] = gdf['OrthoP'].astype(float)\n",
    "gdf = gdf[(gdf['OrthoP'] != '0.0') | \n",
    "                          (gdf['OrthoP'] != '0') | (gdf['OrthoP'] != 0.0)]\n",
    "print(gdf['OrthoP'].min(), gdf['OrthoP'].max(), len(gdf))\n",
    "\"\"\""
   ]
  },
  {
   "cell_type": "code",
   "execution_count": 19,
   "id": "31065774-4801-4a3c-ba84-7ea48cf4d2d1",
   "metadata": {
    "tags": []
   },
   "outputs": [
    {
     "data": {
      "text/plain": [
       "191"
      ]
     },
     "execution_count": 19,
     "metadata": {},
     "output_type": "execute_result"
    }
   ],
   "source": [
    "#gdf = gdf[(gdf['result'] > 0.0)]\n",
    "#gdf = gdf['result'].fillna(0)\n",
    "#print(gdf['result'].min(), gdf['result'].max(), len(gdf))\n",
    "len(gdf)"
   ]
  },
  {
   "cell_type": "code",
   "execution_count": 20,
   "id": "35e7d835-fb6a-42a1-9346-07252b79ab1d",
   "metadata": {},
   "outputs": [],
   "source": [
    "#Demo Day Visuals Begin"
   ]
  },
  {
   "cell_type": "code",
   "execution_count": 21,
   "id": "9ac17018-b9ef-4e9b-8d1b-9bb2e5e6bf71",
   "metadata": {},
   "outputs": [],
   "source": [
    "# Convert to GeoDataFrame using BNG coordinates\n",
    "#gdf = gpd.GeoDataFrame(\n",
    "#    df,\n",
    "#    geometry=gpd.points_from_xy(df.easting, df.northing),\n",
    "#    crs=\"EPSG:27700\"  # British National Grid\n",
    "#)"
   ]
  },
  {
   "cell_type": "code",
   "execution_count": 22,
   "id": "94f1cd4d-50d6-45a0-a552-d445f00ad000",
   "metadata": {
    "tags": []
   },
   "outputs": [
    {
     "name": "stdout",
     "output_type": "stream",
     "text": [
      "\n"
     ]
    }
   ],
   "source": [
    "def load_classification_layers():\n",
    "    #Load classification shapefiles from Andrew WRC\n",
    "    classifications = {}\n",
    "   \n",
    "    try:\n",
    "        # Example paths - modify these:\n",
    "        path = \"gs://rdmai_dev_data/NW_Final/Andrew_S_shape_files/GIS/\"\n",
    "        \n",
    "        # Need to ask Andrew for these two shape files\n",
    "        #classifications['rainfall_zones'] = gpd.read_file(path + 'rainfall_zones.shp').to_crs(epsg=27700)\n",
    "        #classifications['wfd_urban'] = gpd.read_file(path + 'urban.shp').to_crs(epsg=27700)\n",
    "\n",
    "        # Available shape files\n",
    "        classifications['nfra_benchmarks'] = gpd.read_file(path + 'nrfa-station-metadata-2024-09-11.shp').to_crs(epsg=27700)\n",
    "        classifications['wfd_canal_water'] = gpd.read_file(path + 'WFD_Canal_Water_Bodies_Cycle_3.shp').to_crs(epsg=27700)\n",
    "        classifications['all_EA_loc'] = gpd.read_file(path + 'All EA Monitoring Locations.shp').to_crs(epsg=27700)\n",
    "        classifications['bfi_zones'] = gpd.read_file(path + 'BFI_By_Operational_Catchment.shp').to_crs(epsg=27700)\n",
    "        classifications['surface_water'] = gpd.read_file(path + 'SurfaceWaterTransfer.shp').to_crs(epsg=27700)\n",
    "    except Exception as e:\n",
    "        print(f\"Error loading classification layers: {e}\")\n",
    "        return None\n",
    "    return classifications\n",
    "\n",
    "# Perform spatial joins\n",
    "class_layers = load_classification_layers()\n",
    "if class_layers:\n",
    "    # Need to ask Andrew for these two shape files\n",
    "    # Join rainfall zones\n",
    "    #gdf = gpd.sjoin(gdf, class_layers['rainfall_zones'], how='left', predicate='within')\n",
    "    # Join WFD urban classification\n",
    "    #gdf = gpd.sjoin(gdf, class_layers['wfd_urban'], how='left', predicate='within')\n",
    "\n",
    "    # Available shape files\n",
    "    # Join NFRA benchmarks\n",
    "    gdf = gpd.sjoin(gdf, class_layers['nfra_benchmarks'], how='left', predicate='within')\n",
    "    # Join WFD Canal Water Body\n",
    "    #gdf = gpd.sjoin(gdf, class_layers['wfd_canal_water'], how='left', predicate='within')\n",
    "    # Join All EA Monitoring Locations\n",
    "    #gdf = gpd.sjoin(gdf, class_layers['all_EA_loc'], how='left', predicate='within')\n",
    "    # Join BFI zones\n",
    "    #gdf = gpd.sjoin(gdf, class_layers['bfi_zones'], how='left', predicate='within')\n",
    "    # Join Surface Water Bodies\n",
    "    #gdf = gpd.sjoin(gdf, class_layers['surface_water'], how='left', predicate='within')\n",
    "    print()\n"
   ]
  },
  {
   "cell_type": "code",
   "execution_count": 23,
   "id": "8688e2a7-ad62-4904-b583-3f7ac09a3536",
   "metadata": {},
   "outputs": [],
   "source": [
    "# Convert to GeoDataFrame using BNG coordinates\n",
    "#gdf = gpd.GeoDataFrame(\n",
    "#    df,\n",
    "#    geometry=gpd.points_from_xy(df.easting, df.northing),\n",
    "#    crs=\"EPSG:27700\"  # British National Grid\n",
    "#)\n"
   ]
  },
  {
   "cell_type": "code",
   "execution_count": 24,
   "id": "98ea2fa9-3058-4fed-8ea6-bd2aa8feb67b",
   "metadata": {
    "tags": []
   },
   "outputs": [
    {
     "data": {
      "text/html": [
       "<div>\n",
       "<style scoped>\n",
       "    .dataframe tbody tr th:only-of-type {\n",
       "        vertical-align: middle;\n",
       "    }\n",
       "\n",
       "    .dataframe tbody tr th {\n",
       "        vertical-align: top;\n",
       "    }\n",
       "\n",
       "    .dataframe thead th {\n",
       "        text-align: right;\n",
       "    }\n",
       "</style>\n",
       "<table border=\"1\" class=\"dataframe\">\n",
       "  <thead>\n",
       "    <tr style=\"text-align: right;\">\n",
       "      <th></th>\n",
       "      <th>sampleDateOnly</th>\n",
       "      <th>OrthoP</th>\n",
       "      <th>Predicted_OrthoP</th>\n",
       "      <th>samplingPoint_easting</th>\n",
       "      <th>samplingPoint_northing</th>\n",
       "      <th>purpose_name_label</th>\n",
       "      <th>samplingPoint_notation_label</th>\n",
       "      <th>Day_of_Month</th>\n",
       "      <th>Week_of_Year</th>\n",
       "      <th>Season_label</th>\n",
       "      <th>Day_of_Week_label</th>\n",
       "      <th>Month_of_Year_label</th>\n",
       "      <th>longitude_label</th>\n",
       "      <th>latitude_label</th>\n",
       "      <th>isComplianceSample_label_0</th>\n",
       "      <th>isComplianceSample_label_1</th>\n",
       "      <th>116_N Oxidised_Unclassified</th>\n",
       "      <th>111_Ammonia(N)_Unclassified</th>\n",
       "      <th>117_Nitrate-N_Unclassified</th>\n",
       "      <th>118_Nitrite-N_Unclassified</th>\n",
       "      <th>119_NH3 un-ion_Yes</th>\n",
       "      <th>9924_Oxygen Diss_Yes</th>\n",
       "      <th>162_Alky pH 4.5_Unsure</th>\n",
       "      <th>longitude</th>\n",
       "      <th>latitude</th>\n",
       "      <th>geometry</th>\n",
       "      <th>index_right</th>\n",
       "    </tr>\n",
       "  </thead>\n",
       "  <tbody>\n",
       "    <tr>\n",
       "      <th>2</th>\n",
       "      <td>2000-03-16</td>\n",
       "      <td>0.05</td>\n",
       "      <td>0.03</td>\n",
       "      <td>420190</td>\n",
       "      <td>542201</td>\n",
       "      <td>2</td>\n",
       "      <td>8207</td>\n",
       "      <td>16</td>\n",
       "      <td>11</td>\n",
       "      <td>1</td>\n",
       "      <td>4</td>\n",
       "      <td>7</td>\n",
       "      <td>12022</td>\n",
       "      <td>20867</td>\n",
       "      <td>1</td>\n",
       "      <td>0</td>\n",
       "      <td>0.78</td>\n",
       "      <td>0.03</td>\n",
       "      <td>0.78</td>\n",
       "      <td>0.01</td>\n",
       "      <td>0.00</td>\n",
       "      <td>12.60</td>\n",
       "      <td>283.00</td>\n",
       "      <td>-1.69</td>\n",
       "      <td>54.77</td>\n",
       "      <td>POINT (-1.68767 54.77432)</td>\n",
       "      <td>NaN</td>\n",
       "    </tr>\n",
       "    <tr>\n",
       "      <th>6</th>\n",
       "      <td>2000-09-26</td>\n",
       "      <td>0.07</td>\n",
       "      <td>0.08</td>\n",
       "      <td>420190</td>\n",
       "      <td>542201</td>\n",
       "      <td>2</td>\n",
       "      <td>8207</td>\n",
       "      <td>26</td>\n",
       "      <td>39</td>\n",
       "      <td>0</td>\n",
       "      <td>5</td>\n",
       "      <td>11</td>\n",
       "      <td>12022</td>\n",
       "      <td>20867</td>\n",
       "      <td>1</td>\n",
       "      <td>0</td>\n",
       "      <td>1.33</td>\n",
       "      <td>0.04</td>\n",
       "      <td>1.32</td>\n",
       "      <td>0.01</td>\n",
       "      <td>0.00</td>\n",
       "      <td>10.30</td>\n",
       "      <td>179.00</td>\n",
       "      <td>-1.69</td>\n",
       "      <td>54.77</td>\n",
       "      <td>POINT (-1.68767 54.77432)</td>\n",
       "      <td>NaN</td>\n",
       "    </tr>\n",
       "  </tbody>\n",
       "</table>\n",
       "</div>"
      ],
      "text/plain": [
       "  sampleDateOnly  OrthoP  Predicted_OrthoP  samplingPoint_easting  \\\n",
       "2     2000-03-16    0.05              0.03                 420190   \n",
       "6     2000-09-26    0.07              0.08                 420190   \n",
       "\n",
       "   samplingPoint_northing  purpose_name_label  samplingPoint_notation_label  \\\n",
       "2                  542201                   2                          8207   \n",
       "6                  542201                   2                          8207   \n",
       "\n",
       "   Day_of_Month  Week_of_Year  Season_label  Day_of_Week_label  \\\n",
       "2            16            11             1                  4   \n",
       "6            26            39             0                  5   \n",
       "\n",
       "   Month_of_Year_label  longitude_label  latitude_label  \\\n",
       "2                    7            12022           20867   \n",
       "6                   11            12022           20867   \n",
       "\n",
       "   isComplianceSample_label_0  isComplianceSample_label_1  \\\n",
       "2                           1                           0   \n",
       "6                           1                           0   \n",
       "\n",
       "   116_N Oxidised_Unclassified  111_Ammonia(N)_Unclassified  \\\n",
       "2                         0.78                         0.03   \n",
       "6                         1.33                         0.04   \n",
       "\n",
       "   117_Nitrate-N_Unclassified  118_Nitrite-N_Unclassified  119_NH3 un-ion_Yes  \\\n",
       "2                        0.78                        0.01                0.00   \n",
       "6                        1.32                        0.01                0.00   \n",
       "\n",
       "   9924_Oxygen Diss_Yes  162_Alky pH 4.5_Unsure  longitude  latitude  \\\n",
       "2                 12.60                  283.00      -1.69     54.77   \n",
       "6                 10.30                  179.00      -1.69     54.77   \n",
       "\n",
       "                    geometry  index_right  \n",
       "2  POINT (-1.68767 54.77432)          NaN  \n",
       "6  POINT (-1.68767 54.77432)          NaN  "
      ]
     },
     "execution_count": 24,
     "metadata": {},
     "output_type": "execute_result"
    }
   ],
   "source": [
    "#gdf.drop(columns='index_right', inplace=True)\n",
    "gdf.head(2)"
   ]
  },
  {
   "cell_type": "code",
   "execution_count": 25,
   "id": "48f174ef-d7d9-4306-922b-e7932dfbe518",
   "metadata": {
    "tags": []
   },
   "outputs": [],
   "source": [
    "# Convert dates to datetime\n",
    "gdf['sampleDateOnly'] = pd.to_datetime(gdf['sampleDateOnly'])"
   ]
  },
  {
   "cell_type": "code",
   "execution_count": 73,
   "id": "d06b308d-1285-4c89-860c-3e57d646146e",
   "metadata": {
    "tags": []
   },
   "outputs": [],
   "source": [
    "# 3. Visualization Functions --------------------------------------------------\n",
    "\n",
    "def plot_comparison_map(gdf, year=None, classification='rainfall'):\n",
    "    \"\"\"\n",
    "    Create a comparative map showing actual vs predicted values\n",
    "    with classification overlay\n",
    "    \"\"\"\n",
    "    fig, ax = plt.subplots(figsize=(15, 15))\n",
    "   \n",
    "    # Filter by year if specified\n",
    "    if year:\n",
    "        gdf = gdf[gdf['sampleDateOnly'].dt.year == year]\n",
    "   \n",
    "    # Create classification boundaries\n",
    "    if class_layers and classification in class_layers:\n",
    "        class_layers[classification].boundary.plot(\n",
    "            ax=ax, color='black', linewidth=0.8, linestyle='--'\n",
    "        )\n",
    "        \n",
    " # Plot actual values\n",
    "    actual = ax.scatter(\n",
    "        gdf.geometry.x,\n",
    "        gdf.geometry.y,\n",
    "        c=gdf['OrthoP'],\n",
    "        #cmap='YlOrRd',\n",
    "        cmap='YlGnBu',\n",
    "        s=50,\n",
    "        alpha=0.7,\n",
    "        edgecolor='w',\n",
    "        linewidth=0.5,\n",
    "        label='Actual'\n",
    "    )\n",
    "\n",
    "    # Plot predicted values\n",
    "    predicted = ax.scatter(\n",
    "        gdf.geometry.x,\n",
    "        gdf.geometry.y,\n",
    "        c=gdf['Predicted_OrthoP'],\n",
    "        #cmap='YlGnBu',\n",
    "        cmap='YlOrRd',\n",
    "        s=50,\n",
    "        alpha=0.7,\n",
    "        marker='s',\n",
    "        edgecolor='k',\n",
    "        linewidth=0.5,\n",
    "        label='Predicted'\n",
    "    )\n",
    "\n",
    "   # Add basemap\n",
    "    ctx.add_basemap(ax, crs=gdf.crs.to_string(), source=ctx.providers.CartoDB.Positron)\n",
    "   \n",
    "    # Add colorbars\n",
    "    plt.colorbar(actual, ax=ax, label='Actual Orthophosphate (mg/L)', shrink=0.6)\n",
    "    plt.colorbar(predicted, ax=ax, label='Predicted Orthophosphate (mg/L)', shrink=0.6)\n",
    "   \n",
    "    # Add legend\n",
    "    ax.legend(*ax.get_legend_handles_labels(), loc='upper right')\n",
    "   \n",
    "    ax.set_title(f\"Orthophosphate Concentrations - {classification.capitalize()} Zones ({year if year else 'All Years'})\")\n",
    "    ax.set_axis_off()\n",
    "    return fig"
   ]
  },
  {
   "cell_type": "code",
   "execution_count": 74,
   "id": "4c48cc87-d87c-4681-9a00-e26d9d886738",
   "metadata": {
    "tags": []
   },
   "outputs": [],
   "source": [
    "def create_temporal_facet_plot(gdf, classification='rainfall'):\n",
    "    \"\"\"Create faceted plots by year with classification overlay\"\"\"\n",
    "    years = sorted(gdf['sampleDateOnly'].dt.year.unique())\n",
    "   \n",
    "    fig, axs = plt.subplots(len(years), 1, figsize=(15, 5*len(years)))\n",
    "   \n",
    "    for ax, year in zip(axs.flatten(), years):\n",
    "        year_data = gdf[gdf['sampleDateOnly'].dt.year == year]\n",
    "       \n",
    "        # Plot classification boundaries\n",
    "        if class_layers and classification in class_layers:\n",
    "            class_layers[classification].boundary.plot(\n",
    "                ax=ax, color='black', \n",
    "                #linewidth=0.5, \n",
    "                linestyle='--'\n",
    "            )\n",
    "       \n",
    "        # Plot actual values\n",
    "        sc = ax.scatter(\n",
    "            year_data.geometry.x,\n",
    "            year_data.geometry.y,\n",
    "            c=year_data['OrthoP'],\n",
    "            cmap='YlOrRd',\n",
    "            s=40,\n",
    "            alpha=0.8,\n",
    "            edgecolor='w'\n",
    "        )\n",
    "       \n",
    "        # Add basemap\n",
    "        ctx.add_basemap(ax, crs=year_data.crs.to_string(), source=ctx.providers.CartoDB.Positron)\n",
    "       \n",
    "        plt.colorbar(sc, ax=ax, label='Orthophosphate (mg/L)')\n",
    "        ax.set_title(f'{year} - {classification.capitalize()} Zones')\n",
    "        ax.set_axis_off()\n",
    "   \n",
    "    \"\"\"\n",
    "    from ipywidgets import interact, Dropdown\n",
    "    @interact(\n",
    "        year=Dropdown(options=sorted(gdf_sample['sampleDateOnly'].dt.year.unique())),\n",
    "        classification=Dropdown(options=['nfra_benchmarks', 'wfd_canal_water', 'all_EA_loc', 'bfi_zones', 'surface_water'])\n",
    "    )\n",
    "    def interactive_plot(year, classification):\n",
    "       return plot_comparison_map(gdf_sample, year=year, classification=classification)\n",
    "    \"\"\"\n",
    "\n",
    "    plt.tight_layout()\n",
    "    return fig"
   ]
  },
  {
   "cell_type": "code",
   "execution_count": 75,
   "id": "aecfd1b8-8653-4fe2-ab2d-cdb48395db73",
   "metadata": {
    "tags": []
   },
   "outputs": [
    {
     "data": {
      "image/png": "[encoded data removed]",
      "text/plain": [
       "<Figure size 1500x1500 with 3 Axes>"
      ]
     },
     "metadata": {},
     "output_type": "display_data"
    },
    {
     "data": {
      "text/plain": [
       "\"\\nfrom ipywidgets import interact, Dropdown\\n@interact(\\n    year=Dropdown(options=sorted(gdf_sample['sampleDateOnly'].dt.year.unique())),\\n    classification=Dropdown(options=['rainfall', 'nfra', 'wfd', 'bfi'])\\n)\\ndef interactive_plot(year, classification):\\n   return plot_comparison_map(gdf_sample, year=year, classification=classification)\\n\""
      ]
     },
     "execution_count": 75,
     "metadata": {},
     "output_type": "execute_result"
    }
   ],
   "source": [
    "# 4. Generate Visualizations --------------------------------------------------\n",
    "\n",
    "gdf_sample = gdf.sample(frac=0.9, random_state=41)\n",
    "gdf_sample = gdf\n",
    "\n",
    "# 4.1 Comparative Map (Actual vs Predicted)\n",
    "fig_comparison = plot_comparison_map(gdf_sample, classification='nfra_benchmarks')\n",
    "\n",
    "# 4.2 Temporal Facet Plots\n",
    "#fig_temporal = create_temporal_facet_plot(gdf_sample, classification='wfd_urban')\n",
    "\n",
    "# 4.3 Save Outputs\n",
    "#fig_comparison.savefig('orthophosphate_comparison_map.png', dpi=300, bbox_inches='tight')\n",
    "#fig_temporal.savefig('orthophosphate_temporal_facets.png', dpi=300, bbox_inches='tight')\n",
    "\n",
    "plt.show()\n",
    "\n",
    "\"\"\"\n",
    "from ipywidgets import interact, Dropdown\n",
    "@interact(\n",
    "    year=Dropdown(options=sorted(gdf_sample['sampleDateOnly'].dt.year.unique())),\n",
    "    classification=Dropdown(options=['rainfall', 'nfra', 'wfd', 'bfi'])\n",
    ")\n",
    "def interactive_plot(year, classification):\n",
    "   return plot_comparison_map(gdf_sample, year=year, classification=classification)\n",
    "\"\"\""
   ]
  },
  {
   "cell_type": "code",
   "execution_count": null,
   "id": "47321431-c4be-4f08-a861-4e8de4134486",
   "metadata": {},
   "outputs": [],
   "source": []
  }
 ],
 "metadata": {
  "environment": {
   "kernel": "conda-base-py",
   "name": "workbench-notebooks.m126",
   "type": "gcloud",
   "uri": "us-docker.pkg.dev/deeplearning-platform-release/gcr.io/workbench-notebooks:m126"
  },
  "kernelspec": {
   "display_name": "Python 3 (ipykernel) (Local)",
   "language": "python",
   "name": "conda-base-py"
  },
  "language_info": {
   "codemirror_mode": {
    "name": "ipython",
    "version": 3
   },
   "file_extension": ".py",
   "mimetype": "text/x-python",
   "name": "python",
   "nbconvert_exporter": "python",
   "pygments_lexer": "ipython3",
   "version": "3.10.15"
  }
 },
 "nbformat": 4,
 "nbformat_minor": 5
}
