{
 "cells": [
  {
   "cell_type": "code",
   "execution_count": 1,
   "id": "8272ecff-c771-40bc-8876-4770322211b0",
   "metadata": {
    "tags": []
   },
   "outputs": [],
   "source": [
    "# Notebook Summary:\n",
    "\n",
    "# V.History: \n",
    "# Date Last Modified: 14 May 2025\n",
    "\n",
    "#This Notebook Extracts Distinct Chemical names (WQ Determinand) from the 24 years of EA data \n",
    "\n",
    "#Input File Locations\n",
    "# 1) gcs://rdmai_data/cleansed/03_WQEA_2000_2024_Cleansed_Sorted_New.csv\n",
    "\n",
    "\n",
    "#Output File Locations\n",
    "# 01) gcs://rdmai_data/cleansed/03_WQEA_2000_24_distintChemical_New.csv #Unique determinand, its name and its overall counts into a Data set\n",
    "# 02) gcs://rdmai_data/cleansed/03_WQEA_2000_24_full_New.csv #Added year and month columns Whole 24 Years of Data\n",
    "\n",
    "#Pre-Requisite : \n",
    "    #Kernel Python 3 (ipykernel) is required to run this notebook \n",
    "    #Required python version - Python 3.10.15 and its compatible Numpy , ScikitLearn libraries\n",
    "\n",
    "#Old Name: 03_NB_EDA_prilims.ipynb"
   ]
  },
  {
   "cell_type": "code",
   "execution_count": 2,
   "id": "60fe11e4-be18-40c4-935b-9e33302b3167",
   "metadata": {
    "tags": []
   },
   "outputs": [
    {
     "name": "stdout",
     "output_type": "stream",
     "text": [
      "Python 3.10.15\n",
      "['Python 3.10.15']\n"
     ]
    }
   ],
   "source": [
    "#Check python version compatibility 3.10 or above is required\n",
    "!python -V\n",
    "python_version=!(python --version 2>&1)\n",
    "print (python_version)"
   ]
  },
  {
   "cell_type": "code",
   "execution_count": 3,
   "id": "a931d8f5-1e45-4a91-9de2-4bdeb7f12c24",
   "metadata": {
    "tags": []
   },
   "outputs": [
    {
     "name": "stdout",
     "output_type": "stream",
     "text": [
      "Intalling required libraries and utilities.....\n",
      "Uses Python 3 (ipykernel) (Local)\n",
      "Python 3.10.15\n",
      "['Python 3.10.15']\n",
      "\n",
      "\u001b[1m[\u001b[0m\u001b[34;49mnotice\u001b[0m\u001b[1;39;49m]\u001b[0m\u001b[39;49m A new release of pip is available: \u001b[0m\u001b[31;49m25.0.1\u001b[0m\u001b[39;49m -> \u001b[0m\u001b[32;49m25.1.1\u001b[0m\n",
      "\u001b[1m[\u001b[0m\u001b[34;49mnotice\u001b[0m\u001b[1;39;49m]\u001b[0m\u001b[39;49m To update, run: \u001b[0m\u001b[32;49mpip install --upgrade pip\u001b[0m\n",
      "\n",
      "\u001b[1m[\u001b[0m\u001b[34;49mnotice\u001b[0m\u001b[1;39;49m]\u001b[0m\u001b[39;49m A new release of pip is available: \u001b[0m\u001b[31;49m25.0.1\u001b[0m\u001b[39;49m -> \u001b[0m\u001b[32;49m25.1.1\u001b[0m\n",
      "\u001b[1m[\u001b[0m\u001b[34;49mnotice\u001b[0m\u001b[1;39;49m]\u001b[0m\u001b[39;49m To update, run: \u001b[0m\u001b[32;49mpip install --upgrade pip\u001b[0m\n",
      "\n",
      "\u001b[1m[\u001b[0m\u001b[34;49mnotice\u001b[0m\u001b[1;39;49m]\u001b[0m\u001b[39;49m A new release of pip is available: \u001b[0m\u001b[31;49m25.0.1\u001b[0m\u001b[39;49m -> \u001b[0m\u001b[32;49m25.1.1\u001b[0m\n",
      "\u001b[1m[\u001b[0m\u001b[34;49mnotice\u001b[0m\u001b[1;39;49m]\u001b[0m\u001b[39;49m To update, run: \u001b[0m\u001b[32;49mpip install --upgrade pip\u001b[0m\n",
      "\n",
      "\u001b[1m[\u001b[0m\u001b[34;49mnotice\u001b[0m\u001b[1;39;49m]\u001b[0m\u001b[39;49m A new release of pip is available: \u001b[0m\u001b[31;49m25.0.1\u001b[0m\u001b[39;49m -> \u001b[0m\u001b[32;49m25.1.1\u001b[0m\n",
      "\u001b[1m[\u001b[0m\u001b[34;49mnotice\u001b[0m\u001b[1;39;49m]\u001b[0m\u001b[39;49m To update, run: \u001b[0m\u001b[32;49mpip install --upgrade pip\u001b[0m\n",
      "\n",
      "\u001b[1m[\u001b[0m\u001b[34;49mnotice\u001b[0m\u001b[1;39;49m]\u001b[0m\u001b[39;49m A new release of pip is available: \u001b[0m\u001b[31;49m25.0.1\u001b[0m\u001b[39;49m -> \u001b[0m\u001b[32;49m25.1.1\u001b[0m\n",
      "\u001b[1m[\u001b[0m\u001b[34;49mnotice\u001b[0m\u001b[1;39;49m]\u001b[0m\u001b[39;49m To update, run: \u001b[0m\u001b[32;49mpip install --upgrade pip\u001b[0m\n",
      "\n",
      "\u001b[1m[\u001b[0m\u001b[34;49mnotice\u001b[0m\u001b[1;39;49m]\u001b[0m\u001b[39;49m A new release of pip is available: \u001b[0m\u001b[31;49m25.0.1\u001b[0m\u001b[39;49m -> \u001b[0m\u001b[32;49m25.1.1\u001b[0m\n",
      "\u001b[1m[\u001b[0m\u001b[34;49mnotice\u001b[0m\u001b[1;39;49m]\u001b[0m\u001b[39;49m To update, run: \u001b[0m\u001b[32;49mpip install --upgrade pip\u001b[0m\n",
      "\n",
      "\u001b[1m[\u001b[0m\u001b[34;49mnotice\u001b[0m\u001b[1;39;49m]\u001b[0m\u001b[39;49m A new release of pip is available: \u001b[0m\u001b[31;49m25.0.1\u001b[0m\u001b[39;49m -> \u001b[0m\u001b[32;49m25.1.1\u001b[0m\n",
      "\u001b[1m[\u001b[0m\u001b[34;49mnotice\u001b[0m\u001b[1;39;49m]\u001b[0m\u001b[39;49m To update, run: \u001b[0m\u001b[32;49mpip install --upgrade pip\u001b[0m\n",
      "\n",
      "\u001b[1m[\u001b[0m\u001b[34;49mnotice\u001b[0m\u001b[1;39;49m]\u001b[0m\u001b[39;49m A new release of pip is available: \u001b[0m\u001b[31;49m25.0.1\u001b[0m\u001b[39;49m -> \u001b[0m\u001b[32;49m25.1.1\u001b[0m\n",
      "\u001b[1m[\u001b[0m\u001b[34;49mnotice\u001b[0m\u001b[1;39;49m]\u001b[0m\u001b[39;49m To update, run: \u001b[0m\u001b[32;49mpip install --upgrade pip\u001b[0m\n",
      "\n",
      "\u001b[1m[\u001b[0m\u001b[34;49mnotice\u001b[0m\u001b[1;39;49m]\u001b[0m\u001b[39;49m A new release of pip is available: \u001b[0m\u001b[31;49m25.0.1\u001b[0m\u001b[39;49m -> \u001b[0m\u001b[32;49m25.1.1\u001b[0m\n",
      "\u001b[1m[\u001b[0m\u001b[34;49mnotice\u001b[0m\u001b[1;39;49m]\u001b[0m\u001b[39;49m To update, run: \u001b[0m\u001b[32;49mpip install --upgrade pip\u001b[0m\n",
      "\n",
      "\u001b[1m[\u001b[0m\u001b[34;49mnotice\u001b[0m\u001b[1;39;49m]\u001b[0m\u001b[39;49m A new release of pip is available: \u001b[0m\u001b[31;49m25.0.1\u001b[0m\u001b[39;49m -> \u001b[0m\u001b[32;49m25.1.1\u001b[0m\n",
      "\u001b[1m[\u001b[0m\u001b[34;49mnotice\u001b[0m\u001b[1;39;49m]\u001b[0m\u001b[39;49m To update, run: \u001b[0m\u001b[32;49mpip install --upgrade pip\u001b[0m\n",
      "\n",
      "\u001b[1m[\u001b[0m\u001b[34;49mnotice\u001b[0m\u001b[1;39;49m]\u001b[0m\u001b[39;49m A new release of pip is available: \u001b[0m\u001b[31;49m25.0.1\u001b[0m\u001b[39;49m -> \u001b[0m\u001b[32;49m25.1.1\u001b[0m\n",
      "\u001b[1m[\u001b[0m\u001b[34;49mnotice\u001b[0m\u001b[1;39;49m]\u001b[0m\u001b[39;49m To update, run: \u001b[0m\u001b[32;49mpip install --upgrade pip\u001b[0m\n",
      "11 May 2025 08:13:54\n",
      "welcome\n",
      "gcs://rdmai_data/raw/\n",
      "Begin Card\n",
      "\n",
      "\n",
      "\n",
      "\n",
      "\u001b[1m[\u001b[0m\u001b[34;49mnotice\u001b[0m\u001b[1;39;49m]\u001b[0m\u001b[39;49m A new release of pip is available: \u001b[0m\u001b[31;49m25.0.1\u001b[0m\u001b[39;49m -> \u001b[0m\u001b[32;49m25.1.1\u001b[0m\n",
      "\u001b[1m[\u001b[0m\u001b[34;49mnotice\u001b[0m\u001b[1;39;49m]\u001b[0m\u001b[39;49m To update, run: \u001b[0m\u001b[32;49mpip install --upgrade pip\u001b[0m\n",
      "\n",
      "\u001b[1m[\u001b[0m\u001b[34;49mnotice\u001b[0m\u001b[1;39;49m]\u001b[0m\u001b[39;49m A new release of pip is available: \u001b[0m\u001b[31;49m25.0.1\u001b[0m\u001b[39;49m -> \u001b[0m\u001b[32;49m25.1.1\u001b[0m\n",
      "\u001b[1m[\u001b[0m\u001b[34;49mnotice\u001b[0m\u001b[1;39;49m]\u001b[0m\u001b[39;49m To update, run: \u001b[0m\u001b[32;49mpip install --upgrade pip\u001b[0m\n",
      "\n",
      "\u001b[1m[\u001b[0m\u001b[34;49mnotice\u001b[0m\u001b[1;39;49m]\u001b[0m\u001b[39;49m A new release of pip is available: \u001b[0m\u001b[31;49m25.0.1\u001b[0m\u001b[39;49m -> \u001b[0m\u001b[32;49m25.1.1\u001b[0m\n",
      "\u001b[1m[\u001b[0m\u001b[34;49mnotice\u001b[0m\u001b[1;39;49m]\u001b[0m\u001b[39;49m To update, run: \u001b[0m\u001b[32;49mpip install --upgrade pip\u001b[0m\n",
      "\n",
      "\u001b[1m[\u001b[0m\u001b[34;49mnotice\u001b[0m\u001b[1;39;49m]\u001b[0m\u001b[39;49m A new release of pip is available: \u001b[0m\u001b[31;49m25.0.1\u001b[0m\u001b[39;49m -> \u001b[0m\u001b[32;49m25.1.1\u001b[0m\n",
      "\u001b[1m[\u001b[0m\u001b[34;49mnotice\u001b[0m\u001b[1;39;49m]\u001b[0m\u001b[39;49m To update, run: \u001b[0m\u001b[32;49mpip install --upgrade pip\u001b[0m\n",
      "\n",
      "\u001b[1m[\u001b[0m\u001b[34;49mnotice\u001b[0m\u001b[1;39;49m]\u001b[0m\u001b[39;49m A new release of pip is available: \u001b[0m\u001b[31;49m25.0.1\u001b[0m\u001b[39;49m -> \u001b[0m\u001b[32;49m25.1.1\u001b[0m\n",
      "\u001b[1m[\u001b[0m\u001b[34;49mnotice\u001b[0m\u001b[1;39;49m]\u001b[0m\u001b[39;49m To update, run: \u001b[0m\u001b[32;49mpip install --upgrade pip\u001b[0m\n",
      "\n",
      "\u001b[1m[\u001b[0m\u001b[34;49mnotice\u001b[0m\u001b[1;39;49m]\u001b[0m\u001b[39;49m A new release of pip is available: \u001b[0m\u001b[31;49m25.0.1\u001b[0m\u001b[39;49m -> \u001b[0m\u001b[32;49m25.1.1\u001b[0m\n",
      "\u001b[1m[\u001b[0m\u001b[34;49mnotice\u001b[0m\u001b[1;39;49m]\u001b[0m\u001b[39;49m To update, run: \u001b[0m\u001b[32;49mpip install --upgrade pip\u001b[0m\n"
     ]
    },
    {
     "name": "stderr",
     "output_type": "stream",
     "text": [
      "2025-05-11 08:14:10.819320: E external/local_xla/xla/stream_executor/cuda/cuda_fft.cc:467] Unable to register cuFFT factory: Attempting to register factory for plugin cuFFT when one has already been registered\n",
      "WARNING: All log messages before absl::InitializeLog() is called are written to STDERR\n",
      "E0000 00:00:1746951250.842398 1241823 cuda_dnn.cc:8579] Unable to register cuDNN factory: Attempting to register factory for plugin cuDNN when one has already been registered\n",
      "E0000 00:00:1746951250.849635 1241823 cuda_blas.cc:1407] Unable to register cuBLAS factory: Attempting to register factory for plugin cuBLAS when one has already been registered\n",
      "W0000 00:00:1746951250.868544 1241823 computation_placer.cc:177] computation placer already registered. Please check linkage and avoid linking the same target more than once.\n",
      "W0000 00:00:1746951250.868566 1241823 computation_placer.cc:177] computation placer already registered. Please check linkage and avoid linking the same target more than once.\n",
      "W0000 00:00:1746951250.868569 1241823 computation_placer.cc:177] computation placer already registered. Please check linkage and avoid linking the same target more than once.\n",
      "W0000 00:00:1746951250.868571 1241823 computation_placer.cc:177] computation placer already registered. Please check linkage and avoid linking the same target more than once.\n",
      "2025-05-11 08:14:10.874781: I tensorflow/core/platform/cpu_feature_guard.cc:210] This TensorFlow binary is optimized to use available CPU instructions in performance-critical operations.\n",
      "To enable the following instructions: AVX2 FMA, in other operations, rebuild TensorFlow with the appropriate compiler flags.\n"
     ]
    },
    {
     "name": "stdout",
     "output_type": "stream",
     "text": [
      "\n",
      "\u001b[1m[\u001b[0m\u001b[34;49mnotice\u001b[0m\u001b[1;39;49m]\u001b[0m\u001b[39;49m A new release of pip is available: \u001b[0m\u001b[31;49m25.0.1\u001b[0m\u001b[39;49m -> \u001b[0m\u001b[32;49m25.1.1\u001b[0m\n",
      "\u001b[1m[\u001b[0m\u001b[34;49mnotice\u001b[0m\u001b[1;39;49m]\u001b[0m\u001b[39;49m To update, run: \u001b[0m\u001b[32;49mpip install --upgrade pip\u001b[0m\n",
      "|| Completed intalling required libraries and utilities ||\n",
      "\n",
      "\u001b[1m[\u001b[0m\u001b[34;49mnotice\u001b[0m\u001b[1;39;49m]\u001b[0m\u001b[39;49m A new release of pip is available: \u001b[0m\u001b[31;49m25.0.1\u001b[0m\u001b[39;49m -> \u001b[0m\u001b[32;49m25.1.1\u001b[0m\n",
      "\u001b[1m[\u001b[0m\u001b[34;49mnotice\u001b[0m\u001b[1;39;49m]\u001b[0m\u001b[39;49m To update, run: \u001b[0m\u001b[32;49mpip install --upgrade pip\u001b[0m\n",
      "\n",
      "\u001b[1m[\u001b[0m\u001b[34;49mnotice\u001b[0m\u001b[1;39;49m]\u001b[0m\u001b[39;49m A new release of pip is available: \u001b[0m\u001b[31;49m25.0.1\u001b[0m\u001b[39;49m -> \u001b[0m\u001b[32;49m25.1.1\u001b[0m\n",
      "\u001b[1m[\u001b[0m\u001b[34;49mnotice\u001b[0m\u001b[1;39;49m]\u001b[0m\u001b[39;49m To update, run: \u001b[0m\u001b[32;49mpip install --upgrade pip\u001b[0m\n",
      "\n",
      "\u001b[1m[\u001b[0m\u001b[34;49mnotice\u001b[0m\u001b[1;39;49m]\u001b[0m\u001b[39;49m A new release of pip is available: \u001b[0m\u001b[31;49m25.0.1\u001b[0m\u001b[39;49m -> \u001b[0m\u001b[32;49m25.1.1\u001b[0m\n",
      "\u001b[1m[\u001b[0m\u001b[34;49mnotice\u001b[0m\u001b[1;39;49m]\u001b[0m\u001b[39;49m To update, run: \u001b[0m\u001b[32;49mpip install --upgrade pip\u001b[0m\n",
      "\n",
      "\u001b[1m[\u001b[0m\u001b[34;49mnotice\u001b[0m\u001b[1;39;49m]\u001b[0m\u001b[39;49m A new release of pip is available: \u001b[0m\u001b[31;49m25.0.1\u001b[0m\u001b[39;49m -> \u001b[0m\u001b[32;49m25.1.1\u001b[0m\n",
      "\u001b[1m[\u001b[0m\u001b[34;49mnotice\u001b[0m\u001b[1;39;49m]\u001b[0m\u001b[39;49m To update, run: \u001b[0m\u001b[32;49mpip install --upgrade pip\u001b[0m\n",
      "\n",
      "\u001b[1m[\u001b[0m\u001b[34;49mnotice\u001b[0m\u001b[1;39;49m]\u001b[0m\u001b[39;49m A new release of pip is available: \u001b[0m\u001b[31;49m25.0.1\u001b[0m\u001b[39;49m -> \u001b[0m\u001b[32;49m25.1.1\u001b[0m\n",
      "\u001b[1m[\u001b[0m\u001b[34;49mnotice\u001b[0m\u001b[1;39;49m]\u001b[0m\u001b[39;49m To update, run: \u001b[0m\u001b[32;49mpip install --upgrade pip\u001b[0m\n"
     ]
    }
   ],
   "source": [
    "%run \"..//99_Common_Utils/99_NB_CommonUtils.ipynb\" #Common utilities & Libraries \n"
   ]
  },
  {
   "cell_type": "code",
   "execution_count": 4,
   "id": "2b8b90e6-1b85-4f63-9918-9e13875acdbc",
   "metadata": {
    "tags": []
   },
   "outputs": [],
   "source": [
    "#Begin CARD"
   ]
  },
  {
   "cell_type": "code",
   "execution_count": 5,
   "id": "ee12f9a1-d3c5-4704-8c5e-cec7cff548ec",
   "metadata": {
    "tags": []
   },
   "outputs": [
    {
     "name": "stdout",
     "output_type": "stream",
     "text": [
      "11 May 2025 08:14:25\n",
      "gcs://rdmai_dev_data/cleansed/03_WQEA_2000_2024_Cleansed_Sorted_New.csv\n",
      "11 May 2025 08:22:23\n"
     ]
    },
    {
     "data": {
      "text/plain": [
       "()"
      ]
     },
     "execution_count": 5,
     "metadata": {},
     "output_type": "execute_result"
    }
   ],
   "source": [
    "# Read dataset\n",
    "folderpath = cleansed\n",
    "filename = '03_WQEA_2000_2024_Cleansed_Sorted_New.csv'\n",
    "showtime()\n",
    "df = loaddata(folderpath, filename, path = 'gcs://rdmai_dev_data/')\n",
    "showtime()"
   ]
  },
  {
   "cell_type": "code",
   "execution_count": 6,
   "id": "7f4dade5-119c-4546-91a7-103e2a440b7a",
   "metadata": {
    "tags": []
   },
   "outputs": [
    {
     "name": "stdout",
     "output_type": "stream",
     "text": [
      "sno                         0\n",
      "samplingPoint_notation      0\n",
      "samplingPoint_name          0\n",
      "sampleDateTime              0\n",
      "determinand_name            0\n",
      "determinand_definition      0\n",
      "determinand_notation        0\n",
      "result                      0\n",
      "determinand_unit_name       0\n",
      "sampledMaterialType_name    0\n",
      "isComplianceSample          0\n",
      "purpose_name                0\n",
      "samplingPoint_easting       0\n",
      "samplingPoint_northing      0\n",
      "sampleDateOnly              0\n",
      "dtype: int64\n"
     ]
    }
   ],
   "source": [
    "#df.reset_index(level='sno', inplace=True)\n",
    "df.set_index('sno')\n",
    "print(df.isna().sum())"
   ]
  },
  {
   "cell_type": "code",
   "execution_count": 7,
   "id": "4801b3b3-31b4-4f40-aae2-6a565dc1c09d",
   "metadata": {
    "scrolled": true,
    "tags": []
   },
   "outputs": [
    {
     "name": "stdout",
     "output_type": "stream",
     "text": [
      "Unique Determinands:  3261\n"
     ]
    }
   ],
   "source": [
    "#No column has Null values hence no columns were dropped\n",
    "#df = df.drop(['resultInterpretation'], axis=1)\n",
    "#df.head(2)\n",
    "#Unique Determinands\n",
    "print(\"Unique Determinands: \", df['determinand_notation'].nunique())"
   ]
  },
  {
   "cell_type": "code",
   "execution_count": 8,
   "id": "223439bc-d994-454d-bcbf-5298beb2a467",
   "metadata": {
    "tags": []
   },
   "outputs": [
    {
     "name": "stdout",
     "output_type": "stream",
     "text": [
      "3261\n",
      "3261\n"
     ]
    },
    {
     "data": {
      "text/html": [
       "<div>\n",
       "<style scoped>\n",
       "    .dataframe tbody tr th:only-of-type {\n",
       "        vertical-align: middle;\n",
       "    }\n",
       "\n",
       "    .dataframe tbody tr th {\n",
       "        vertical-align: top;\n",
       "    }\n",
       "\n",
       "    .dataframe thead th {\n",
       "        text-align: right;\n",
       "    }\n",
       "</style>\n",
       "<table border=\"1\" class=\"dataframe\">\n",
       "  <thead>\n",
       "    <tr style=\"text-align: right;\">\n",
       "      <th></th>\n",
       "      <th>determinand_notation</th>\n",
       "      <th>determinand_name</th>\n",
       "      <th>determinand_definition</th>\n",
       "      <th>result</th>\n",
       "      <th>determinand_unit_name</th>\n",
       "      <th>samplingPoint_notation</th>\n",
       "      <th>samplingPoint_name</th>\n",
       "    </tr>\n",
       "  </thead>\n",
       "  <tbody>\n",
       "    <tr>\n",
       "      <th>0</th>\n",
       "      <td>7444</td>\n",
       "      <td>D Site Insp</td>\n",
       "      <td>Descriptive Site Inspection : Pass/Fail 1/0</td>\n",
       "      <td>1.00</td>\n",
       "      <td>coded</td>\n",
       "      <td>AN-011262</td>\n",
       "      <td>STEANE PARK THE MANOR HOUSE STW</td>\n",
       "    </tr>\n",
       "    <tr>\n",
       "      <th>4</th>\n",
       "      <td>664</td>\n",
       "      <td>Oil &amp; Grs Vs</td>\n",
       "      <td>Visible oil or grease, significant trace: Pres...</td>\n",
       "      <td>0.00</td>\n",
       "      <td>pres/nf</td>\n",
       "      <td>AN-011262</td>\n",
       "      <td>STEANE PARK THE MANOR HOUSE STW</td>\n",
       "    </tr>\n",
       "  </tbody>\n",
       "</table>\n",
       "</div>"
      ],
      "text/plain": [
       "   determinand_notation determinand_name  \\\n",
       "0                  7444      D Site Insp   \n",
       "4                   664     Oil & Grs Vs   \n",
       "\n",
       "                              determinand_definition  result  \\\n",
       "0        Descriptive Site Inspection : Pass/Fail 1/0    1.00   \n",
       "4  Visible oil or grease, significant trace: Pres...    0.00   \n",
       "\n",
       "  determinand_unit_name samplingPoint_notation  \\\n",
       "0                 coded              AN-011262   \n",
       "4               pres/nf              AN-011262   \n",
       "\n",
       "                samplingPoint_name  \n",
       "0  STEANE PARK THE MANOR HOUSE STW  \n",
       "4  STEANE PARK THE MANOR HOUSE STW  "
      ]
     },
     "execution_count": 8,
     "metadata": {},
     "output_type": "execute_result"
    }
   ],
   "source": [
    "#02. List of all chemicals being measured and monitored, This would have each chemicals' distinct count - Entire 25 years data\n",
    "distinctChemicals = []\n",
    "#distinctChemicals = df[['determinand_notation', 'determinand_name', 'determinand_definition']].value_counts()\n",
    "distinctChemicals = df.drop_duplicates(subset=['determinand_notation'])\n",
    "distinctChemicals = distinctChemicals[['determinand_notation', 'determinand_name',\n",
    "                                       'determinand_definition', 'result', 'determinand_unit_name',\n",
    "                                       'samplingPoint_notation', 'samplingPoint_name']]\n",
    "print(len(distinctChemicals))\n",
    "print(df['determinand_notation'].nunique())\n",
    "distinctChemicals.head(2)"
   ]
  },
  {
   "cell_type": "code",
   "execution_count": 9,
   "id": "4b97c2e3-4edd-420a-afdc-bca751f9ffd5",
   "metadata": {
    "tags": []
   },
   "outputs": [
    {
     "name": "stdout",
     "output_type": "stream",
     "text": [
      "11 May 2025 08:22:54\n",
      "saved, Location:  gcs://rdmai_dev_data/cleansed/03_nb_get_unique_dminands.csv\n"
     ]
    },
    {
     "data": {
      "text/plain": [
       "('saved, Location: ',\n",
       " 'gcs://rdmai_dev_data/cleansed/03_nb_get_unique_dminands.csv')"
      ]
     },
     "execution_count": 9,
     "metadata": {},
     "output_type": "execute_result"
    }
   ],
   "source": [
    "################################################################################\n",
    "#Save Unique determinand, its name and its overall counts into a Data set\n",
    "showtime()\n",
    "#savedata(distinctChemicals, \"03_WQEA_2019_24_distintChemical.csv\")\n",
    "#savedata(distinctChemicals, \"03_WQEA_2000_24_distintChemical_New.csv\") #Commented on 10 May 2025\n",
    "savedata(distinctChemicals, \"03_nb_get_unique_dminands.csv\", tpath='gcs://rdmai_dev_data/') #Included on 10 May 2025 \n",
    "#showtime()\n",
    "#del(df_2000_2024)\n",
    "################################################################################"
   ]
  },
  {
   "cell_type": "code",
   "execution_count": 10,
   "id": "226c543a-e8ea-467c-95c1-770907411296",
   "metadata": {},
   "outputs": [],
   "source": [
    "#End CARD"
   ]
  },
  {
   "cell_type": "code",
   "execution_count": null,
   "id": "6b0c2c37-9d64-49e3-abe5-1bd73b637d82",
   "metadata": {},
   "outputs": [],
   "source": []
  },
  {
   "cell_type": "code",
   "execution_count": 11,
   "id": "36ab7a56-207b-4378-b889-079787e26896",
   "metadata": {},
   "outputs": [],
   "source": [
    "#Following section adds Month, Year and Region's Shortname into the 24 Year WQ dataset"
   ]
  },
  {
   "cell_type": "code",
   "execution_count": 12,
   "id": "ed73eb9d-7668-4c70-9156-b89827ec75e4",
   "metadata": {
    "tags": []
   },
   "outputs": [
    {
     "data": {
      "text/html": [
       "<div>\n",
       "<style scoped>\n",
       "    .dataframe tbody tr th:only-of-type {\n",
       "        vertical-align: middle;\n",
       "    }\n",
       "\n",
       "    .dataframe tbody tr th {\n",
       "        vertical-align: top;\n",
       "    }\n",
       "\n",
       "    .dataframe thead th {\n",
       "        text-align: right;\n",
       "    }\n",
       "</style>\n",
       "<table border=\"1\" class=\"dataframe\">\n",
       "  <thead>\n",
       "    <tr style=\"text-align: right;\">\n",
       "      <th></th>\n",
       "      <th>sno</th>\n",
       "      <th>samplingPoint_notation</th>\n",
       "      <th>samplingPoint_name</th>\n",
       "      <th>sampleDateTime</th>\n",
       "      <th>determinand_name</th>\n",
       "      <th>determinand_definition</th>\n",
       "      <th>determinand_notation</th>\n",
       "      <th>result</th>\n",
       "      <th>determinand_unit_name</th>\n",
       "      <th>sampledMaterialType_name</th>\n",
       "      <th>isComplianceSample</th>\n",
       "      <th>purpose_name</th>\n",
       "      <th>samplingPoint_easting</th>\n",
       "      <th>samplingPoint_northing</th>\n",
       "      <th>sampleDateOnly</th>\n",
       "      <th>month</th>\n",
       "      <th>year</th>\n",
       "      <th>Region_shortname</th>\n",
       "    </tr>\n",
       "  </thead>\n",
       "  <tbody>\n",
       "    <tr>\n",
       "      <th>0</th>\n",
       "      <td>1</td>\n",
       "      <td>AN-011262</td>\n",
       "      <td>STEANE PARK THE MANOR HOUSE STW</td>\n",
       "      <td>2002-05-28 13:50:00</td>\n",
       "      <td>D Site Insp</td>\n",
       "      <td>Descriptive Site Inspection : Pass/Fail 1/0</td>\n",
       "      <td>7444</td>\n",
       "      <td>1.00</td>\n",
       "      <td>coded</td>\n",
       "      <td>FINAL SEWAGE EFFLUENT</td>\n",
       "      <td>True</td>\n",
       "      <td>COMPLIANCE AUDIT (PERMIT)</td>\n",
       "      <td>455510</td>\n",
       "      <td>239070</td>\n",
       "      <td>2002-05-28</td>\n",
       "      <td>5</td>\n",
       "      <td>2002</td>\n",
       "      <td>AN</td>\n",
       "    </tr>\n",
       "    <tr>\n",
       "      <th>1</th>\n",
       "      <td>2</td>\n",
       "      <td>AN-011262</td>\n",
       "      <td>STEANE PARK THE MANOR HOUSE STW</td>\n",
       "      <td>2003-06-11 14:00:00</td>\n",
       "      <td>D Site Insp</td>\n",
       "      <td>Descriptive Site Inspection : Pass/Fail 1/0</td>\n",
       "      <td>7444</td>\n",
       "      <td>1.00</td>\n",
       "      <td>coded</td>\n",
       "      <td>FINAL SEWAGE EFFLUENT</td>\n",
       "      <td>True</td>\n",
       "      <td>COMPLIANCE AUDIT (PERMIT)</td>\n",
       "      <td>455510</td>\n",
       "      <td>239070</td>\n",
       "      <td>2003-06-11</td>\n",
       "      <td>6</td>\n",
       "      <td>2003</td>\n",
       "      <td>AN</td>\n",
       "    </tr>\n",
       "  </tbody>\n",
       "</table>\n",
       "</div>"
      ],
      "text/plain": [
       "   sno samplingPoint_notation               samplingPoint_name  \\\n",
       "0    1              AN-011262  STEANE PARK THE MANOR HOUSE STW   \n",
       "1    2              AN-011262  STEANE PARK THE MANOR HOUSE STW   \n",
       "\n",
       "        sampleDateTime determinand_name  \\\n",
       "0  2002-05-28 13:50:00      D Site Insp   \n",
       "1  2003-06-11 14:00:00      D Site Insp   \n",
       "\n",
       "                        determinand_definition  determinand_notation  result  \\\n",
       "0  Descriptive Site Inspection : Pass/Fail 1/0                  7444    1.00   \n",
       "1  Descriptive Site Inspection : Pass/Fail 1/0                  7444    1.00   \n",
       "\n",
       "  determinand_unit_name sampledMaterialType_name  isComplianceSample  \\\n",
       "0                 coded    FINAL SEWAGE EFFLUENT                True   \n",
       "1                 coded    FINAL SEWAGE EFFLUENT                True   \n",
       "\n",
       "                purpose_name  samplingPoint_easting  samplingPoint_northing  \\\n",
       "0  COMPLIANCE AUDIT (PERMIT)                 455510                  239070   \n",
       "1  COMPLIANCE AUDIT (PERMIT)                 455510                  239070   \n",
       "\n",
       "  sampleDateOnly  month  year Region_shortname  \n",
       "0     2002-05-28      5  2002               AN  \n",
       "1     2003-06-11      6  2003               AN  "
      ]
     },
     "execution_count": 12,
     "metadata": {},
     "output_type": "execute_result"
    }
   ],
   "source": [
    "#03. Creating two new columns to have year and months extracted separately from sampleDateTime. Date,time of the samples collected from catchment\n",
    "df['sampleDateOnly'] = pd.to_datetime(df['sampleDateOnly'])\n",
    "\n",
    "df['month'] = df['sampleDateOnly'].dt.month\n",
    "df['year'] = df['sampleDateOnly'].dt.year\n",
    "'''\n",
    "df['month'] = df['sampleDateTime'].dt.to_period('M')\n",
    "df['year'] = df['sampleDateTime'].dt.to_period('Y')\n",
    "'''\n",
    "df['Region_shortname'] = df[\"samplingPoint_notation\"].str[0:2]\n",
    "df.head(2)\n"
   ]
  },
  {
   "cell_type": "code",
   "execution_count": 13,
   "id": "eabf12ff-0b07-4953-8ff8-af0630b1c837",
   "metadata": {
    "tags": []
   },
   "outputs": [
    {
     "name": "stdout",
     "output_type": "stream",
     "text": [
      "11 May 2025 08:23:19\n",
      "saved, Location:  gcs://rdmai_dev_data/cleansed/03_WQEA_2000_24_full_New.csv\n",
      "11 May 2025 08:36:23\n"
     ]
    },
    {
     "data": {
      "text/plain": [
       "()"
      ]
     },
     "execution_count": 13,
     "metadata": {},
     "output_type": "execute_result"
    }
   ],
   "source": [
    "################################################################################\n",
    "#Save 24 Years Data set with additional cols - Year, Month and Short Region Code \n",
    "showtime()\n",
    "#savedata(df, \"03_WQEA_2019_24_full.csv\")\n",
    "savedata(df, \"03_WQEA_2000_24_full_New.csv\", tpath='gcs://rdmai_dev_data/') #Modified to have tpath - on 10 May 2025\n",
    "showtime()\n",
    "#del(df)\n",
    "################################################################################"
   ]
  },
  {
   "cell_type": "code",
   "execution_count": 14,
   "id": "19336424-2cd2-4380-956c-2a8d2945be44",
   "metadata": {},
   "outputs": [],
   "source": [
    "#End CARD2\n",
    "#In line comments completed 10-May-2025"
   ]
  }
 ],
 "metadata": {
  "environment": {
   "kernel": "conda-base-py",
   "name": "workbench-notebooks.m126",
   "type": "gcloud",
   "uri": "us-docker.pkg.dev/deeplearning-platform-release/gcr.io/workbench-notebooks:m126"
  },
  "kernelspec": {
   "display_name": "Python 3 (ipykernel) (Local)",
   "language": "python",
   "name": "conda-base-py"
  },
  "language_info": {
   "codemirror_mode": {
    "name": "ipython",
    "version": 3
   },
   "file_extension": ".py",
   "mimetype": "text/x-python",
   "name": "python",
   "nbconvert_exporter": "python",
   "pygments_lexer": "ipython3",
   "version": "3.10.15"
  }
 },
 "nbformat": 4,
 "nbformat_minor": 5
}
