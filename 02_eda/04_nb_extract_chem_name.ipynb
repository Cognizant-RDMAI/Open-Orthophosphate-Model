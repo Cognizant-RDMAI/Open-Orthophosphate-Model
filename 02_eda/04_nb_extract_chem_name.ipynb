{
 "cells": [
  {
   "cell_type": "code",
   "execution_count": 1,
   "id": "b532b3ca-f241-448f-a0c8-c2afcb3f654a",
   "metadata": {
    "tags": []
   },
   "outputs": [],
   "source": [
    "#!pip list #To obtain requirements.txt for Python 3 ipykernel (Python 3.7.12)"
   ]
  },
  {
   "cell_type": "code",
   "execution_count": 1,
   "id": "e0a59b52-0882-463e-9f8d-e76b25058479",
   "metadata": {
    "tags": []
   },
   "outputs": [],
   "source": [
    "# Notebook Summary:\n",
    "\n",
    "# V.History: \n",
    "# Date Last Modified: 14 May 2025\n",
    "\n",
    "# This notebook extracts chemical names from a given text (Determinand Definition or Name) using the advanced NLP library 'Spacy’. \n",
    "# Named Entity Recognition is used to gain insight into the unstructured text - 'Determinand Definition'.\n",
    "# Three columns - 'Element', 'Group', and 'Metal' - are added to the distinct chemical name CSV file.\n",
    "# RDKIT, CHEMDATAEXTRACTOR, and CHEMLIB are the chemical libraries explored during development. \n",
    "# ChemDataExtractor (Product of Cambridge University) is used to extract chemical properties for a given \n",
    "# Determinand Definition. Other experiments were also conducted during development.\n",
    "# This notebook uses a Python version earlier than 3.8, specifically an ipykernel with Python 3.7.12.\n",
    "\n",
    "# Note: For the advanced version of chemical name extractions (Field name: chem2_name), refer to the notebook: 10_NB_Final_chem2.ipynb\n",
    "\n",
    "#Pre-Requisite : \n",
    "    #Kernel Python 3 (ipykernel) is required to run this notebook \n",
    "    #Required python version - Python 3.7.12 and its compatible Numpy , ScikitLearn libraries\n",
    "\n",
    "#Old Name: 08_NB_ChemNameExtraction.ipynb"
   ]
  },
  {
   "cell_type": "code",
   "execution_count": 2,
   "id": "152710a7-e470-4559-b6e1-27c2e90c1f30",
   "metadata": {
    "tags": []
   },
   "outputs": [
    {
     "name": "stdout",
     "output_type": "stream",
     "text": [
      "Python 3.7.12\n",
      "['Python 3.7.12']\n"
     ]
    }
   ],
   "source": [
    "!python -V\n",
    "python_version=!(python --version 2>&1)\n",
    "print (python_version)"
   ]
  },
  {
   "cell_type": "code",
   "execution_count": 3,
   "id": "b704e482-2059-4f96-9854-a9ced2b1cf60",
   "metadata": {
    "tags": []
   },
   "outputs": [
    {
     "name": "stdout",
     "output_type": "stream",
     "text": [
      "Channels:\n",
      " - conda-forge\n",
      "Platform: linux-64\n",
      "Collecting package metadata (repodata.json): done\n",
      "Solving environment: failed\n",
      "\n",
      "PackagesNotFoundError: The following packages are not available from current channels:\n",
      "\n",
      "  - //github.com/maddenfederico/chemdataextractor2\n",
      "\n",
      "Current channels:\n",
      "\n",
      "  - https://conda.anaconda.org/conda-forge\n",
      "\n",
      "To search for alternate channels that may provide the conda package you're\n",
      "looking for, navigate to\n",
      "\n",
      "    https://anaconda.org\n",
      "\n",
      "and use the search bar at the top of the page.\n",
      "\n",
      "\n",
      "Requirement already satisfied: chemlib in /home/jupyter/CodePP/chem2/lib/python3.7/site-packages (2.2.4)\n",
      "Requirement already satisfied: numpy in /home/jupyter/CodePP/chem2/lib/python3.7/site-packages (from chemlib) (1.21.6)\n",
      "Requirement already satisfied: sympy in /home/jupyter/CodePP/chem2/lib/python3.7/site-packages (from chemlib) (1.10.1)\n",
      "Requirement already satisfied: pandas in /home/jupyter/CodePP/chem2/lib/python3.7/site-packages (from chemlib) (1.3.5)\n",
      "Requirement already satisfied: Pillow in /home/jupyter/CodePP/chem2/lib/python3.7/site-packages (from chemlib) (9.5.0)\n",
      "Requirement already satisfied: python-dateutil>=2.7.3 in /home/jupyter/CodePP/chem2/lib/python3.7/site-packages (from pandas->chemlib) (2.9.0)\n",
      "Requirement already satisfied: pytz>=2017.3 in /home/jupyter/CodePP/chem2/lib/python3.7/site-packages (from pandas->chemlib) (2025.1)\n",
      "Requirement already satisfied: mpmath>=0.19 in /home/jupyter/CodePP/chem2/lib/python3.7/site-packages (from sympy->chemlib) (1.3.0)\n",
      "Requirement already satisfied: six>=1.5 in /home/jupyter/CodePP/chem2/lib/python3.7/site-packages (from python-dateutil>=2.7.3->pandas->chemlib) (1.16.0)\n",
      "Collecting git+https://github.com/maddenfederico/ChemDataExtractor\n",
      "  Cloning https://github.com/maddenfederico/ChemDataExtractor to /var/tmp/pip-req-build-ah8eonyq\n",
      "  Running command git clone --filter=blob:none --quiet https://github.com/maddenfederico/ChemDataExtractor /var/tmp/pip-req-build-ah8eonyq\n",
      "  Resolved https://github.com/maddenfederico/ChemDataExtractor to commit f1a1b523b6a0862bae29c359a9728f97ec57b11e\n",
      "  Preparing metadata (setup.py): started\n",
      "  Preparing metadata (setup.py): finished with status 'done'\n"
     ]
    }
   ],
   "source": [
    "#!pip install -U pip\n",
    "#!pip install -U cryptography\n",
    "\n",
    "!pip install scikit-learn rdkit | grep -v 'already satisfied'\n",
    "\n",
    "#!pip install dawg\n",
    "#!pip install -U dawg2\n",
    "\n",
    "#!pip install dawg2  | grep -v 'already satisfied'\n",
    "!pip install -U dawg2  | grep -v 'already satisfied'\n",
    "\n",
    "!pip install chemdataextractor  | grep -v 'already satisfied'\n",
    "!pip install -U chemdataextractor  | grep -v 'already satisfied'\n",
    "\n",
    "#!pip install chemdataextractor2 | grep -v 'already satisfied'     #Commented on 10 May 2025, Due to python version compatibility issue \n",
    "#!pip install -U chemdataextractor2 | grep -v 'already satisfied'  #Commented on 10 May 2025, Due to python version compatibility issue\n",
    "\n",
    "!conda install git+https://github.com/maddenfederico/ChemDataExtractor2\n",
    "\n",
    "!pip install chemdataextractor --no-dependencies  | grep -v 'already satisfied'\n",
    "\n",
    "!pip3 install chemdataextractor2 --no-dependencies  | grep -v 'already satisfied'\n",
    "\n",
    "!pip install -U chemlib\n",
    "\n",
    "#!pip3 install chemdataextractor2 --no-dependencies\n",
    "\n",
    "!pip install git+https://github.com/maddenfederico/ChemDataExtractor  | grep -v 'already satisfied'\n"
   ]
  },
  {
   "cell_type": "code",
   "execution_count": 4,
   "id": "5b340d35-74fd-4482-a298-853396dd653d",
   "metadata": {},
   "outputs": [
    {
     "name": "stderr",
     "output_type": "stream",
     "text": [
      "/home/jupyter/CodePP/chem2/lib/python3.7/site-packages/tqdm/auto.py:21: TqdmWarning: IProgress not found. Please update jupyter and ipywidgets. See https://ipywidgets.readthedocs.io/en/stable/user_install.html\n",
      "  from .autonotebook import tqdm as notebook_tqdm\n"
     ]
    }
   ],
   "source": [
    "#%run \"99_NB_CommonUtils.ipynb\" #Installing other required libraries\n",
    "import pandas as pd\n",
    "import spacy\n",
    "from chemlib import PeriodicTable\n",
    "from chemlib import Element\n",
    "import spacy\n",
    "from chemlib import chemistry\n",
    "from rdkit import Chem\n",
    "from rdkit.Chem import AllChem, DataStructs\n",
    "from sklearn.cluster import AgglomerativeClustering\n",
    "\n",
    "import spacy\n",
    "from spacy.tokens import doc\n",
    "nlp = spacy.load('en_core_web_sm')\n"
   ]
  },
  {
   "cell_type": "code",
   "execution_count": 5,
   "id": "770ceb90-d222-4e51-b3a8-3fc771e0ea38",
   "metadata": {
    "tags": []
   },
   "outputs": [],
   "source": [
    "#User-Defined functions\n",
    "def showtime():\n",
    "    import time\n",
    "    from datetime import datetime\n",
    "    \n",
    "    t = time.localtime()\n",
    "    d = datetime.now()\n",
    "    current_time = time.strftime(\"%H:%M:%S\", t)\n",
    "    current_date = d.strftime(\"%d %B %Y\")\n",
    "    print(current_date, current_time)\n",
    "    return()\n"
   ]
  },
  {
   "cell_type": "code",
   "execution_count": 6,
   "id": "5d818f19-b7e4-4590-9c0c-c6e9d501c8d5",
   "metadata": {
    "tags": []
   },
   "outputs": [],
   "source": [
    "#Save dataset into GCP Cloud Storage\n",
    "def savedata(tDF, tname, tpath = 'gcs://rdmai_data/') :\n",
    "    #tpath = 'gcs://rdmai_data/'\n",
    "    tclensed = 'cleansed/'\n",
    "    tDF.to_csv(tpath+tclensed+tname)\n",
    "    print(\"saved, Location: \", tpath+tclensed+tname)\n",
    "    return(\"saved, Location: \", tpath+tclensed+tname)"
   ]
  },
  {
   "cell_type": "code",
   "execution_count": 7,
   "id": "0635f83f-1e6c-466b-a62e-ab9a22554703",
   "metadata": {
    "tags": []
   },
   "outputs": [],
   "source": [
    "#Read dataset from GCP Cloud Storage\n",
    "def loaddata(fpath, fname, path = 'gcs://rdmai_data/') : #added a path parameter as optional paramter  Jan 2 2025 - Pasu\n",
    "    #Constants declaration for the folder path for files stored under Google Cloud Storage \n",
    "    #path = 'gcs://rdmai_data/' #added a path parameter as optional paramter Jan 2 2025, hence commented here - Pasu\n",
    "\n",
    "    #all_files = glob.glob(os.path.join(path + raw, \"*.csv\"))\n",
    "    #wqpath = 'Water_Quality_EA/'\n",
    "    ##wqpath = '' #Make this commented when reading from Google Cloud Storage\n",
    "\n",
    "    print (path+fpath+fname)\n",
    "\n",
    "    #Read full clensed Set where the data is from 2000 till 2004\n",
    "    retdf = pd.DataFrame()\n",
    "    #showtime()\n",
    "    retdf = pd.read_csv(path+fpath+fname)\n",
    "    #showtime()\n",
    "           \n",
    "    return (retdf)"
   ]
  },
  {
   "cell_type": "code",
   "execution_count": 8,
   "id": "c80a33b5-165f-48a8-bf07-22ff192a7897",
   "metadata": {
    "tags": []
   },
   "outputs": [],
   "source": [
    "# Create a custom entity matcher\n",
    "def extract_chemical_elements(text):\n",
    "    doc = nlp(text)  # Process the text using spaCy's NER\n",
    "\n",
    "    # Loop through each token in the text\n",
    "    fnd=False\n",
    "    for token in doc:\n",
    "        #print(token)\n",
    "        # Check if the token matches any chemical element name\n",
    "        #if token.text.capitalize() in element_names: #Old method\n",
    "        #    return (pdchElements[(pdchElements.Element.isin([token.text.capitalize()]))])\n",
    "        #else:\n",
    "        #    return(pd.DataFrame({'Element': [doc], 'Group': [99], 'Metal': ['False']}))\n",
    "        if token.text.capitalize() in element_names: #Old method\n",
    "            return (pdchElements[(pdchElements.Element.isin([token.text.capitalize()]))])\n",
    "    if ~fnd:\n",
    "        return(pd.DataFrame({'Element': [doc], 'Group': [99], 'Metal': [False]}))"
   ]
  },
  {
   "cell_type": "code",
   "execution_count": 9,
   "id": "3a9e345d-418b-4ede-918b-60b228d5ce45",
   "metadata": {
    "tags": []
   },
   "outputs": [
    {
     "name": "stdout",
     "output_type": "stream",
     "text": [
      "11 May 2025 21:37:56\n",
      "gcs://rdmai_dev_data/cleansed/03_nb_get_unique_dminands.csv\n"
     ]
    },
    {
     "name": "stderr",
     "output_type": "stream",
     "text": [
      "/home/jupyter/CodePP/chem2/lib/python3.7/site-packages/google/auth/crypt/_cryptography_rsa.py:22: CryptographyDeprecationWarning: Python 3.7 is no longer supported by the Python core team and support for it is deprecated in cryptography. A future release of cryptography will remove support for Python 3.7.\n",
      "  import cryptography.exceptions\n"
     ]
    },
    {
     "name": "stdout",
     "output_type": "stream",
     "text": [
      "11 May 2025 21:37:57\n"
     ]
    },
    {
     "data": {
      "text/html": [
       "<div>\n",
       "<style scoped>\n",
       "    .dataframe tbody tr th:only-of-type {\n",
       "        vertical-align: middle;\n",
       "    }\n",
       "\n",
       "    .dataframe tbody tr th {\n",
       "        vertical-align: top;\n",
       "    }\n",
       "\n",
       "    .dataframe thead th {\n",
       "        text-align: right;\n",
       "    }\n",
       "</style>\n",
       "<table border=\"1\" class=\"dataframe\">\n",
       "  <thead>\n",
       "    <tr style=\"text-align: right;\">\n",
       "      <th></th>\n",
       "      <th>Unnamed: 0</th>\n",
       "      <th>determinand_notation</th>\n",
       "      <th>determinand_name</th>\n",
       "      <th>determinand_definition</th>\n",
       "      <th>result</th>\n",
       "      <th>determinand_unit_name</th>\n",
       "      <th>samplingPoint_notation</th>\n",
       "      <th>samplingPoint_name</th>\n",
       "    </tr>\n",
       "  </thead>\n",
       "  <tbody>\n",
       "    <tr>\n",
       "      <th>0</th>\n",
       "      <td>0</td>\n",
       "      <td>7444</td>\n",
       "      <td>D Site Insp</td>\n",
       "      <td>Descriptive Site Inspection : Pass/Fail 1/0</td>\n",
       "      <td>1.0</td>\n",
       "      <td>coded</td>\n",
       "      <td>AN-011262</td>\n",
       "      <td>STEANE PARK THE MANOR HOUSE STW</td>\n",
       "    </tr>\n",
       "    <tr>\n",
       "      <th>1</th>\n",
       "      <td>4</td>\n",
       "      <td>664</td>\n",
       "      <td>Oil &amp; Grs Vs</td>\n",
       "      <td>Visible oil or grease, significant trace: Pres...</td>\n",
       "      <td>0.0</td>\n",
       "      <td>pres/nf</td>\n",
       "      <td>AN-011262</td>\n",
       "      <td>STEANE PARK THE MANOR HOUSE STW</td>\n",
       "    </tr>\n",
       "  </tbody>\n",
       "</table>\n",
       "</div>"
      ],
      "text/plain": [
       "   Unnamed: 0  determinand_notation determinand_name  \\\n",
       "0           0                  7444      D Site Insp   \n",
       "1           4                   664     Oil & Grs Vs   \n",
       "\n",
       "                              determinand_definition  result  \\\n",
       "0        Descriptive Site Inspection : Pass/Fail 1/0     1.0   \n",
       "1  Visible oil or grease, significant trace: Pres...     0.0   \n",
       "\n",
       "  determinand_unit_name samplingPoint_notation  \\\n",
       "0                 coded              AN-011262   \n",
       "1               pres/nf              AN-011262   \n",
       "\n",
       "                samplingPoint_name  \n",
       "0  STEANE PARK THE MANOR HOUSE STW  \n",
       "1  STEANE PARK THE MANOR HOUSE STW  "
      ]
     },
     "execution_count": 9,
     "metadata": {},
     "output_type": "execute_result"
    }
   ],
   "source": [
    "df = pd.DataFrame()\n",
    "raw = 'raw/'\n",
    "curated = \"curated/\"\n",
    "cleansed = \"cleansed/\"\n",
    "\n",
    "folderpath = raw\n",
    "#filename = 'Water_Quality_EA2000_2024_ChemBERT.csv'                    #Commented on 10 May 2025\n",
    "filename = '03_nb_get_unique_dminands.csv'                              #Added on 10 May 2025\n",
    "\n",
    "showtime()\n",
    "#df = loaddata(folderpath, filename, path = 'gcs://rdmai_dev_data/')    #Commented on 10 May 2025\n",
    "df = loaddata(cleansed, filename, path = 'gcs://rdmai_dev_data/')       #Added on 10 May 2025\n",
    "showtime()\n",
    "\n",
    "df_org = pd.read_csv('gcs://rdmai_dev_data/raw/Water_Quality_EA2000_2024_ChemBERT.csv')\n",
    "df = df_org\n",
    "\n",
    "df.head(2) "
   ]
  },
  {
   "cell_type": "code",
   "execution_count": 10,
   "id": "4a744110-caaf-40d6-9893-2a5abac58af0",
   "metadata": {
    "tags": []
   },
   "outputs": [
    {
     "data": {
      "text/plain": [
       "0          Descriptive Site Inspection : Pass/Fail 1/0\n",
       "1    Visible oil or grease, significant trace: Pres...\n",
       "2                                      BOD : 5 Day ATU\n",
       "3                             Ammoniacal Nitrogen as N\n",
       "4                           Solids, Suspended at 105 C\n",
       "5                                   No flow /No sample\n",
       "6                      Chemical Oxygen Demand :- {COD}\n",
       "7                                             Chloride\n",
       "8         Weather : Unusual Condition Flag : Scale 0-5\n",
       "9                                                   pH\n",
       "Name: determinand_definition, dtype: object"
      ]
     },
     "execution_count": 10,
     "metadata": {},
     "output_type": "execute_result"
    }
   ],
   "source": [
    "#tempdf = df[df['sampledMaterialType_name']=='RIVER / RUNNING SURFACE WATER']\n",
    "#tempdf = df.copy()\n",
    "#tempdf.head(2)\n",
    "df['determinand_definition'].head(10)"
   ]
  },
  {
   "cell_type": "code",
   "execution_count": 11,
   "id": "6b529a1c-ce1b-437d-8c71-176a23573c93",
   "metadata": {
    "tags": []
   },
   "outputs": [
    {
     "data": {
      "text/plain": [
       "['Descriptive Site Inspection : Pass/Fail 1/0',\n",
       " 'Visible oil or grease, significant trace: Present/Not found (1/0)',\n",
       " 'BOD : 5 Day ATU',\n",
       " 'Ammoniacal Nitrogen as N',\n",
       " 'Solids, Suspended at 105 C',\n",
       " 'No flow /No sample',\n",
       " 'Chemical Oxygen Demand :- {COD}',\n",
       " 'Chloride',\n",
       " 'Weather : Unusual Condition Flag : Scale 0-5',\n",
       " 'pH']"
      ]
     },
     "execution_count": 11,
     "metadata": {},
     "output_type": "execute_result"
    }
   ],
   "source": [
    "smiles_list = df['determinand_definition'].to_list()\n",
    "#smiles_list = df['determinand_name'].to_list()\n",
    "smiles_list[0:10]"
   ]
  },
  {
   "cell_type": "code",
   "execution_count": 12,
   "id": "25edd80b-8e8e-445e-b8b5-55e52402b30c",
   "metadata": {
    "tags": []
   },
   "outputs": [
    {
     "name": "stdout",
     "output_type": "stream",
     "text": [
      "(118,)\n"
     ]
    }
   ],
   "source": [
    "print (chemistry.pte.Element.shape)"
   ]
  },
  {
   "cell_type": "code",
   "execution_count": 13,
   "id": "b0dc5537-1bbe-488e-b9b1-0e0bfa728a83",
   "metadata": {
    "tags": []
   },
   "outputs": [],
   "source": [
    "# Get a list of chemical element names from the periodic table using chemlib\n",
    "element_list    = [element for element in chemistry.pte]\n",
    "element_names   = [element for element in chemistry.pte.Element]\n",
    "element_group   = [element for element in chemistry.pte.Group]\n",
    "element_symbol  = [element for element in chemistry.pte.Symbol]\n",
    "element_period  = [element for element in chemistry.pte.Period]\n",
    "element_metal   = [element for element in chemistry.pte.Metal]\n",
    "element_natural = [element for element in chemistry.pte.Natural]\n",
    "\n",
    "combined_list = pd.DataFrame({'element_names'   : element_names, \n",
    "                              'element_group'   : element_group,\n",
    "                              'element_symbol'  : element_symbol,\n",
    "                              'element_period'  : element_period,\n",
    "                              'element_metal'   : element_metal,\n",
    "                              'element_natural' : element_natural}) \n",
    "#print(element_list, '|', element_names, '|', element_group, '|', element_symbol, '|', element_period, '|', element_metal, '|', element_natural)\n",
    "#print(combined_list)\n"
   ]
  },
  {
   "cell_type": "code",
   "execution_count": 14,
   "id": "fe93de33-629a-4820-9ffd-97fac6df6c5b",
   "metadata": {
    "tags": []
   },
   "outputs": [
    {
     "data": {
      "text/html": [
       "<div>\n",
       "<style scoped>\n",
       "    .dataframe tbody tr th:only-of-type {\n",
       "        vertical-align: middle;\n",
       "    }\n",
       "\n",
       "    .dataframe tbody tr th {\n",
       "        vertical-align: top;\n",
       "    }\n",
       "\n",
       "    .dataframe thead th {\n",
       "        text-align: right;\n",
       "    }\n",
       "</style>\n",
       "<table border=\"1\" class=\"dataframe\">\n",
       "  <thead>\n",
       "    <tr style=\"text-align: right;\">\n",
       "      <th></th>\n",
       "      <th>Element</th>\n",
       "      <th>Group</th>\n",
       "      <th>Metal</th>\n",
       "    </tr>\n",
       "  </thead>\n",
       "  <tbody>\n",
       "    <tr>\n",
       "      <th>0</th>\n",
       "      <td>Hydrogen</td>\n",
       "      <td>1</td>\n",
       "      <td>False</td>\n",
       "    </tr>\n",
       "    <tr>\n",
       "      <th>1</th>\n",
       "      <td>Helium</td>\n",
       "      <td>18</td>\n",
       "      <td>False</td>\n",
       "    </tr>\n",
       "    <tr>\n",
       "      <th>2</th>\n",
       "      <td>Lithium</td>\n",
       "      <td>1</td>\n",
       "      <td>True</td>\n",
       "    </tr>\n",
       "  </tbody>\n",
       "</table>\n",
       "</div>"
      ],
      "text/plain": [
       "    Element  Group  Metal\n",
       "0  Hydrogen      1  False\n",
       "1    Helium     18  False\n",
       "2   Lithium      1   True"
      ]
     },
     "execution_count": 14,
     "metadata": {},
     "output_type": "execute_result"
    }
   ],
   "source": [
    "chemElements = pd.DataFrame(chemistry.pte)\n",
    "chemElements[:2]\n",
    "\n",
    "pdchElements = chemElements[['Element', 'Group', 'Metal']]\n",
    "\n",
    "# Create new rows\n",
    "new_row = pd.DataFrame({'Element': ['Flow', 'ph', 'Temperature', 'Turbidity', 'Nitrite', 'Nitrate', 'Orthophosphate', 'Chlorophyll', 'Cyanide', 'Hexachlorobenzene', 'Pentachlorophenol', 'Trichlorobenzene', 'Fenitrothion', 'Dieldrin', 'Trifluralin', 'Trichlorobenzene', 'Hexachlorobutadiene', 'Isodrin', 'Aldrin', 'Fluoride', 'Trichlorophenol', 'Phenol', 'Propyzamide', 'Chlorotoluron', 'Dicamba', 'Tecnazene', 'Pirimiphos-methyl', 'Methomyl', 'Oxamyl', 'Clopyralid', 'Chloridazon', 'Carbaryl', 'Endosulfan B', 'Dimethoate', 'Carbetamide', 'Desmetryn', 'Methabenzthiazuron', 'Azinphos-ethyl', 'Methiocarb', 'Tetrachloroethane'], \n",
    "            'Group': [99,99,99,99,99,99,99,99,99,99,99,99,99,99,99,99,99,99,99,99,99,99,99,99,99,99,99,99,99,99,99,99,99,99,99,99,99,99,99,99], \n",
    "            #40'Metal': ['Others','Others','Others','Others','Others','Others','Others','Others','Others','Others','Others','Others','Others','Others','Others','Others','Others','Others','Others','Others','Others','Others','Others','Others','Others','Others','Others','Others','Others','Others','Others','Others','Others','Others','Others','Others','Others','Others','Others','Others'\n",
    "            'Metal': [False, False, False, False, False, False, False, False, False, False, False, False, False, False, False, False, False, False, False, False, False, False, False, False, False, False, False, False, False, False, False, False, False, False, False, False, False, False, False, False  \n",
    "                     ]})\n",
    "pdchElements = pd.concat([pdchElements, new_row], ignore_index=False)\n",
    "\n",
    "new_row = pd.DataFrame({'Element': ['Solid', 'BOD', 'Orthophosphate', 'Chloride', 'Conductivity', 'Odour', 'Phenol', 'Sulphate', 'DDT', 'Endrin', 'Azinphos-methyl', 'DDE', 'Dichloroethane', 'TDE', 'HCH', 'Chloro', 'Dimethylphenol', 'PAH', 'PCB', 'Toxicity', 'Other-Grain Size', 'Algal', 'PHI', 'Density', 'BS EN'],\n",
    "            'Group': [99,99,99,99,99,99,99,99,99,99,99,99,99,99,99,99,99,99,99,99,99,99,99,99,99], \n",
    "            #25'Metal': ['Others','Others','Others','Others','Others','Others','Others','Others','Others','Others','Others','Others','Others','Others','Others','Others','Others','Others','Others','Others','Others','Others','Others','Others','Others'\n",
    "            'Metal': [False, False, False, False, False, False, False, False, False, False, False, False, False, False, False, False, False, False, False, False, False, False, False, False, False\n",
    "                        ]})\n",
    "pdchElements = pd.concat([pdchElements, new_row], ignore_index=False)\n",
    "\n",
    "# Append rows\n",
    "pdchElements = pd.concat([pdchElements, new_row], ignore_index=False)\n",
    "element_names   = [element for element in pdchElements.Element]\n",
    "pdchElements[:3]"
   ]
  },
  {
   "cell_type": "code",
   "execution_count": 15,
   "id": "322a03db-0a15-48be-b8d6-bfb64b770627",
   "metadata": {
    "tags": []
   },
   "outputs": [
    {
     "data": {
      "text/plain": [
       "['Hydrogen', 'Helium', 'Lithium']"
      ]
     },
     "execution_count": 15,
     "metadata": {},
     "output_type": "execute_result"
    }
   ],
   "source": [
    "element_names[:3]"
   ]
  },
  {
   "cell_type": "code",
   "execution_count": 16,
   "id": "03081b8b-a2e5-40ed-99c1-7e114e1199dc",
   "metadata": {
    "tags": []
   },
   "outputs": [
    {
     "data": {
      "text/html": [
       "<div>\n",
       "<style scoped>\n",
       "    .dataframe tbody tr th:only-of-type {\n",
       "        vertical-align: middle;\n",
       "    }\n",
       "\n",
       "    .dataframe tbody tr th {\n",
       "        vertical-align: top;\n",
       "    }\n",
       "\n",
       "    .dataframe thead th {\n",
       "        text-align: right;\n",
       "    }\n",
       "</style>\n",
       "<table border=\"1\" class=\"dataframe\">\n",
       "  <thead>\n",
       "    <tr style=\"text-align: right;\">\n",
       "      <th></th>\n",
       "      <th>Element</th>\n",
       "      <th>Group</th>\n",
       "      <th>Metal</th>\n",
       "    </tr>\n",
       "  </thead>\n",
       "  <tbody>\n",
       "    <tr>\n",
       "      <th>0</th>\n",
       "      <td>(Descriptive, Site, Inspection, :, Pass, /, Fa...</td>\n",
       "      <td>99</td>\n",
       "      <td>False</td>\n",
       "    </tr>\n",
       "    <tr>\n",
       "      <th>1</th>\n",
       "      <td>(Visible, oil, or, grease, ,, significant, tra...</td>\n",
       "      <td>99</td>\n",
       "      <td>False</td>\n",
       "    </tr>\n",
       "    <tr>\n",
       "      <th>2</th>\n",
       "      <td>(BOD, :, 5, Day, ATU)</td>\n",
       "      <td>99</td>\n",
       "      <td>False</td>\n",
       "    </tr>\n",
       "    <tr>\n",
       "      <th>3</th>\n",
       "      <td>Nitrogen</td>\n",
       "      <td>15</td>\n",
       "      <td>False</td>\n",
       "    </tr>\n",
       "    <tr>\n",
       "      <th>4</th>\n",
       "      <td>(Solids, ,, Suspended, at, 105, C)</td>\n",
       "      <td>99</td>\n",
       "      <td>False</td>\n",
       "    </tr>\n",
       "    <tr>\n",
       "      <th>5</th>\n",
       "      <td>Flow</td>\n",
       "      <td>99</td>\n",
       "      <td>False</td>\n",
       "    </tr>\n",
       "    <tr>\n",
       "      <th>6</th>\n",
       "      <td>Oxygen</td>\n",
       "      <td>16</td>\n",
       "      <td>False</td>\n",
       "    </tr>\n",
       "    <tr>\n",
       "      <th>7</th>\n",
       "      <td>Chloride</td>\n",
       "      <td>99</td>\n",
       "      <td>False</td>\n",
       "    </tr>\n",
       "    <tr>\n",
       "      <th>8</th>\n",
       "      <td>(Weather, :, Unusual, Condition, Flag, :, Scal...</td>\n",
       "      <td>99</td>\n",
       "      <td>False</td>\n",
       "    </tr>\n",
       "    <tr>\n",
       "      <th>9</th>\n",
       "      <td>(pH)</td>\n",
       "      <td>99</td>\n",
       "      <td>False</td>\n",
       "    </tr>\n",
       "  </tbody>\n",
       "</table>\n",
       "</div>"
      ],
      "text/plain": [
       "                                             Element Group  Metal\n",
       "0  (Descriptive, Site, Inspection, :, Pass, /, Fa...    99  False\n",
       "1  (Visible, oil, or, grease, ,, significant, tra...    99  False\n",
       "2                              (BOD, :, 5, Day, ATU)    99  False\n",
       "3                                           Nitrogen    15  False\n",
       "4                 (Solids, ,, Suspended, at, 105, C)    99  False\n",
       "5                                               Flow    99  False\n",
       "6                                             Oxygen    16  False\n",
       "7                                           Chloride    99  False\n",
       "8  (Weather, :, Unusual, Condition, Flag, :, Scal...    99  False\n",
       "9                                               (pH)    99  False"
      ]
     },
     "execution_count": 16,
     "metadata": {},
     "output_type": "execute_result"
    }
   ],
   "source": [
    "# Extract Chemical name for Determinand and its related group & Metal type?\n",
    "extracted_elements = pd.DataFrame(columns=['Element','Group','Metal'])\n",
    "i=0\n",
    "for text in smiles_list:\n",
    "    #print(text)\n",
    "    extracted_elements = pd.concat([extracted_elements, extract_chemical_elements(text).head(1)], axis=0, ignore_index=True)\n",
    "    #df = pd.concat([df, extracted_elements], ignore_index=False)\n",
    "    #if (i<10):\n",
    "    #    print (extracted_elements) \n",
    "    #    i=i+1\n",
    "extracted_elements[:10]\n",
    "#df.head(10)"
   ]
  },
  {
   "cell_type": "code",
   "execution_count": 17,
   "id": "9a7a9d5d-76b7-4b2a-ac8f-6e5ee9c4b68b",
   "metadata": {
    "tags": []
   },
   "outputs": [
    {
     "data": {
      "text/plain": [
       "['Descriptive Site Inspection : Pass/Fail 1/0',\n",
       " 'Visible oil or grease, significant trace: Present/Not found (1/0)',\n",
       " 'BOD : 5 Day ATU',\n",
       " 'Ammoniacal Nitrogen as N',\n",
       " 'Solids, Suspended at 105 C',\n",
       " 'No flow /No sample',\n",
       " 'Chemical Oxygen Demand :- {COD}',\n",
       " 'Chloride',\n",
       " 'Weather : Unusual Condition Flag : Scale 0-5',\n",
       " 'pH']"
      ]
     },
     "execution_count": 17,
     "metadata": {},
     "output_type": "execute_result"
    }
   ],
   "source": [
    "smiles_list[:10]"
   ]
  },
  {
   "cell_type": "code",
   "execution_count": 18,
   "id": "e7be667f-1874-48ef-8917-2a91e3dd27f5",
   "metadata": {
    "tags": []
   },
   "outputs": [
    {
     "data": {
      "text/html": [
       "<div>\n",
       "<style scoped>\n",
       "    .dataframe tbody tr th:only-of-type {\n",
       "        vertical-align: middle;\n",
       "    }\n",
       "\n",
       "    .dataframe tbody tr th {\n",
       "        vertical-align: top;\n",
       "    }\n",
       "\n",
       "    .dataframe thead th {\n",
       "        text-align: right;\n",
       "    }\n",
       "</style>\n",
       "<table border=\"1\" class=\"dataframe\">\n",
       "  <thead>\n",
       "    <tr style=\"text-align: right;\">\n",
       "      <th></th>\n",
       "      <th>Unnamed: 0</th>\n",
       "      <th>determinand_notation</th>\n",
       "      <th>determinand_name</th>\n",
       "      <th>determinand_definition</th>\n",
       "      <th>result</th>\n",
       "      <th>determinand_unit_name</th>\n",
       "      <th>samplingPoint_notation</th>\n",
       "      <th>samplingPoint_name</th>\n",
       "      <th>Chemical_Names</th>\n",
       "      <th>Chemical_Group</th>\n",
       "      <th>Metal</th>\n",
       "    </tr>\n",
       "  </thead>\n",
       "  <tbody>\n",
       "    <tr>\n",
       "      <th>0</th>\n",
       "      <td>0</td>\n",
       "      <td>7444</td>\n",
       "      <td>D Site Insp</td>\n",
       "      <td>Descriptive Site Inspection : Pass/Fail 1/0</td>\n",
       "      <td>1.0</td>\n",
       "      <td>coded</td>\n",
       "      <td>AN-011262</td>\n",
       "      <td>STEANE PARK THE MANOR HOUSE STW</td>\n",
       "      <td>(Descriptive, Site, Inspection, :, Pass, /, Fa...</td>\n",
       "      <td>99</td>\n",
       "      <td>False</td>\n",
       "    </tr>\n",
       "    <tr>\n",
       "      <th>1</th>\n",
       "      <td>4</td>\n",
       "      <td>664</td>\n",
       "      <td>Oil &amp; Grs Vs</td>\n",
       "      <td>Visible oil or grease, significant trace: Pres...</td>\n",
       "      <td>0.0</td>\n",
       "      <td>pres/nf</td>\n",
       "      <td>AN-011262</td>\n",
       "      <td>STEANE PARK THE MANOR HOUSE STW</td>\n",
       "      <td>(Visible, oil, or, grease, ,, significant, tra...</td>\n",
       "      <td>99</td>\n",
       "      <td>False</td>\n",
       "    </tr>\n",
       "    <tr>\n",
       "      <th>2</th>\n",
       "      <td>38</td>\n",
       "      <td>85</td>\n",
       "      <td>BOD ATU</td>\n",
       "      <td>BOD : 5 Day ATU</td>\n",
       "      <td>7.5</td>\n",
       "      <td>mg/l</td>\n",
       "      <td>AN-011396</td>\n",
       "      <td>BUCKINGHAM GOLF CLUB TINGEWICK RD.</td>\n",
       "      <td>(BOD, :, 5, Day, ATU)</td>\n",
       "      <td>99</td>\n",
       "      <td>False</td>\n",
       "    </tr>\n",
       "    <tr>\n",
       "      <th>3</th>\n",
       "      <td>39</td>\n",
       "      <td>111</td>\n",
       "      <td>Ammonia(N)</td>\n",
       "      <td>Ammoniacal Nitrogen as N</td>\n",
       "      <td>10.4</td>\n",
       "      <td>mg/l</td>\n",
       "      <td>AN-011396</td>\n",
       "      <td>BUCKINGHAM GOLF CLUB TINGEWICK RD.</td>\n",
       "      <td>Nitrogen</td>\n",
       "      <td>15</td>\n",
       "      <td>False</td>\n",
       "    </tr>\n",
       "    <tr>\n",
       "      <th>4</th>\n",
       "      <td>40</td>\n",
       "      <td>135</td>\n",
       "      <td>Sld Sus@105C</td>\n",
       "      <td>Solids, Suspended at 105 C</td>\n",
       "      <td>10.0</td>\n",
       "      <td>mg/l</td>\n",
       "      <td>AN-011396</td>\n",
       "      <td>BUCKINGHAM GOLF CLUB TINGEWICK RD.</td>\n",
       "      <td>(Solids, ,, Suspended, at, 105, C)</td>\n",
       "      <td>99</td>\n",
       "      <td>False</td>\n",
       "    </tr>\n",
       "  </tbody>\n",
       "</table>\n",
       "</div>"
      ],
      "text/plain": [
       "   Unnamed: 0  determinand_notation determinand_name  \\\n",
       "0           0                  7444      D Site Insp   \n",
       "1           4                   664     Oil & Grs Vs   \n",
       "2          38                    85          BOD ATU   \n",
       "3          39                   111       Ammonia(N)   \n",
       "4          40                   135     Sld Sus@105C   \n",
       "\n",
       "                              determinand_definition  result  \\\n",
       "0        Descriptive Site Inspection : Pass/Fail 1/0     1.0   \n",
       "1  Visible oil or grease, significant trace: Pres...     0.0   \n",
       "2                                    BOD : 5 Day ATU     7.5   \n",
       "3                           Ammoniacal Nitrogen as N    10.4   \n",
       "4                         Solids, Suspended at 105 C    10.0   \n",
       "\n",
       "  determinand_unit_name samplingPoint_notation  \\\n",
       "0                 coded              AN-011262   \n",
       "1               pres/nf              AN-011262   \n",
       "2                  mg/l              AN-011396   \n",
       "3                  mg/l              AN-011396   \n",
       "4                  mg/l              AN-011396   \n",
       "\n",
       "                   samplingPoint_name  \\\n",
       "0     STEANE PARK THE MANOR HOUSE STW   \n",
       "1     STEANE PARK THE MANOR HOUSE STW   \n",
       "2  BUCKINGHAM GOLF CLUB TINGEWICK RD.   \n",
       "3  BUCKINGHAM GOLF CLUB TINGEWICK RD.   \n",
       "4  BUCKINGHAM GOLF CLUB TINGEWICK RD.   \n",
       "\n",
       "                                      Chemical_Names Chemical_Group  Metal  \n",
       "0  (Descriptive, Site, Inspection, :, Pass, /, Fa...             99  False  \n",
       "1  (Visible, oil, or, grease, ,, significant, tra...             99  False  \n",
       "2                              (BOD, :, 5, Day, ATU)             99  False  \n",
       "3                                           Nitrogen             15  False  \n",
       "4                 (Solids, ,, Suspended, at, 105, C)             99  False  "
      ]
     },
     "execution_count": 18,
     "metadata": {},
     "output_type": "execute_result"
    }
   ],
   "source": [
    "#extracted_elements.reindex()\n",
    "df['Chemical_Names'] = extracted_elements['Element']\n",
    "df['Chemical_Group'] = extracted_elements['Group']\n",
    "df['Metal'] = extracted_elements['Metal']\n",
    "df.head(5)"
   ]
  },
  {
   "cell_type": "code",
   "execution_count": 19,
   "id": "edec3d94-2587-4062-8363-3c971ed740de",
   "metadata": {
    "tags": []
   },
   "outputs": [
    {
     "name": "stdout",
     "output_type": "stream",
     "text": [
      "saved, Location:  gcs://rdmai_dev_data/cleansed/04_nb_extract_chem_name.csv\n"
     ]
    },
    {
     "data": {
      "text/plain": [
       "('saved, Location: ',\n",
       " 'gcs://rdmai_dev_data/cleansed/04_nb_extract_chem_name.csv')"
      ]
     },
     "execution_count": 19,
     "metadata": {},
     "output_type": "execute_result"
    }
   ],
   "source": [
    "# Save the clustered data\n",
    "#df.to_csv('08_F_CSV_ChemNameExtraction.csv', index=True)\n",
    "#savedata(df, \"08_F_CSV_ChemNameExtraction.csv\")                           #Commented on 10 May 2025\n",
    "savedata(df, \"04_nb_extract_chem_name.csv\", tpath='gcs://rdmai_dev_data/') #Added on 10 May 2025"
   ]
  },
  {
   "cell_type": "code",
   "execution_count": 20,
   "id": "2852ed80-83b6-4bb6-803d-71f6cb9c744b",
   "metadata": {
    "tags": []
   },
   "outputs": [],
   "source": [
    "#dbutils.notebook.exit(\"End Workload - Scrip stopped\")"
   ]
  },
  {
   "cell_type": "code",
   "execution_count": 21,
   "id": "94df51f1-0944-44c6-ae53-7937c64aafe8",
   "metadata": {
    "tags": []
   },
   "outputs": [],
   "source": [
    "#END CARD"
   ]
  },
  {
   "cell_type": "code",
   "execution_count": null,
   "id": "c75cb844-ae27-495a-b51d-a5d1f3b712d2",
   "metadata": {},
   "outputs": [],
   "source": []
  }
 ],
 "metadata": {
  "environment": {
   "kernel": "conda-env-chem2-py",
   "name": "workbench-notebooks.m126",
   "type": "gcloud",
   "uri": "us-docker.pkg.dev/deeplearning-platform-release/gcr.io/workbench-notebooks:m126"
  },
  "kernelspec": {
   "display_name": "Python 3 (ipykernel) (Local)",
   "language": "python",
   "name": "conda-env-chem2-py"
  },
  "language_info": {
   "codemirror_mode": {
    "name": "ipython",
    "version": 3
   },
   "file_extension": ".py",
   "mimetype": "text/x-python",
   "name": "python",
   "nbconvert_exporter": "python",
   "pygments_lexer": "ipython3",
   "version": "3.7.12"
  }
 },
 "nbformat": 4,
 "nbformat_minor": 5
}
